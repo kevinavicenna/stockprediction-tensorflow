{
 "cells": [
  {
   "cell_type": "markdown",
   "metadata": {},
   "source": [
    "# Implementation LSTM model for Forecasting"
   ]
  },
  {
   "cell_type": "code",
   "execution_count": 1,
   "metadata": {},
   "outputs": [],
   "source": [
    "import time\n",
    "import numpy as np\n",
    "import pandas as pd\n",
    "import yfinance as yf\n",
    "from math import sqrt\n",
    "from datetime import date\n",
    "\n",
    "import seaborn as sns\n",
    "import matplotlib.pyplot as plt"
   ]
  },
  {
   "cell_type": "code",
   "execution_count": 2,
   "metadata": {},
   "outputs": [],
   "source": [
    "from sklearn import metrics\n",
    "from sklearn.preprocessing import MinMaxScaler\n",
    "\n",
    "import tensorflow as tf\n",
    "from tensorflow.keras.models import Sequential\n",
    "from tensorflow.keras.layers import LSTM, Dense, Dropout\n",
    "from tensorflow.keras.optimizers import Adam\n",
    "from tensorflow.keras.callbacks import EarlyStopping"
   ]
  },
  {
   "cell_type": "markdown",
   "metadata": {},
   "source": [
    "## DATA INGESTION"
   ]
  },
  {
   "cell_type": "code",
   "execution_count": 3,
   "metadata": {},
   "outputs": [
    {
     "name": "stderr",
     "output_type": "stream",
     "text": [
      "c:\\Users\\kevin\\miniconda3\\envs\\tf\\lib\\site-packages\\yfinance\\utils.py:775: FutureWarning: The 'unit' keyword in TimedeltaIndex construction is deprecated and will be removed in a future version. Use pd.to_timedelta instead.\n",
      "  df.index += _pd.TimedeltaIndex(dst_error_hours, 'h')\n",
      "[*********************100%%**********************]  1 of 1 completed\n"
     ]
    }
   ],
   "source": [
    "# Stock Input\n",
    "symbol = input(\"Input simbol saham (e.g 'BBRI.JK'): \")\n",
    "start_date = date(2023, 1, 1)\n",
    "end_date = date(2024, 1, 1)\n",
    "\n",
    "data = yf.download(symbol, start=start_date, end=end_date)"
   ]
  },
  {
   "cell_type": "code",
   "execution_count": 4,
   "metadata": {},
   "outputs": [
    {
     "data": {
      "text/html": [
       "<div>\n",
       "<style scoped>\n",
       "    .dataframe tbody tr th:only-of-type {\n",
       "        vertical-align: middle;\n",
       "    }\n",
       "\n",
       "    .dataframe tbody tr th {\n",
       "        vertical-align: top;\n",
       "    }\n",
       "\n",
       "    .dataframe thead th {\n",
       "        text-align: right;\n",
       "    }\n",
       "</style>\n",
       "<table border=\"1\" class=\"dataframe\">\n",
       "  <thead>\n",
       "    <tr style=\"text-align: right;\">\n",
       "      <th></th>\n",
       "      <th>Open</th>\n",
       "      <th>High</th>\n",
       "      <th>Low</th>\n",
       "      <th>Close</th>\n",
       "      <th>Adj Close</th>\n",
       "      <th>Volume</th>\n",
       "    </tr>\n",
       "    <tr>\n",
       "      <th>Date</th>\n",
       "      <th></th>\n",
       "      <th></th>\n",
       "      <th></th>\n",
       "      <th></th>\n",
       "      <th></th>\n",
       "      <th></th>\n",
       "    </tr>\n",
       "  </thead>\n",
       "  <tbody>\n",
       "    <tr>\n",
       "      <th>2023-01-02</th>\n",
       "      <td>4910.0</td>\n",
       "      <td>4920.0</td>\n",
       "      <td>4820.0</td>\n",
       "      <td>4870.0</td>\n",
       "      <td>4349.535156</td>\n",
       "      <td>100200100</td>\n",
       "    </tr>\n",
       "    <tr>\n",
       "      <th>2023-01-03</th>\n",
       "      <td>4830.0</td>\n",
       "      <td>4900.0</td>\n",
       "      <td>4830.0</td>\n",
       "      <td>4850.0</td>\n",
       "      <td>4331.672852</td>\n",
       "      <td>95136500</td>\n",
       "    </tr>\n",
       "    <tr>\n",
       "      <th>2023-01-04</th>\n",
       "      <td>4850.0</td>\n",
       "      <td>4850.0</td>\n",
       "      <td>4770.0</td>\n",
       "      <td>4770.0</td>\n",
       "      <td>4260.222656</td>\n",
       "      <td>188071000</td>\n",
       "    </tr>\n",
       "    <tr>\n",
       "      <th>2023-01-05</th>\n",
       "      <td>4750.0</td>\n",
       "      <td>4760.0</td>\n",
       "      <td>4570.0</td>\n",
       "      <td>4640.0</td>\n",
       "      <td>4144.115723</td>\n",
       "      <td>292142000</td>\n",
       "    </tr>\n",
       "    <tr>\n",
       "      <th>2023-01-06</th>\n",
       "      <td>4550.0</td>\n",
       "      <td>4640.0</td>\n",
       "      <td>4550.0</td>\n",
       "      <td>4620.0</td>\n",
       "      <td>4126.253418</td>\n",
       "      <td>175932000</td>\n",
       "    </tr>\n",
       "  </tbody>\n",
       "</table>\n",
       "</div>"
      ],
      "text/plain": [
       "              Open    High     Low   Close    Adj Close     Volume\n",
       "Date                                                              \n",
       "2023-01-02  4910.0  4920.0  4820.0  4870.0  4349.535156  100200100\n",
       "2023-01-03  4830.0  4900.0  4830.0  4850.0  4331.672852   95136500\n",
       "2023-01-04  4850.0  4850.0  4770.0  4770.0  4260.222656  188071000\n",
       "2023-01-05  4750.0  4760.0  4570.0  4640.0  4144.115723  292142000\n",
       "2023-01-06  4550.0  4640.0  4550.0  4620.0  4126.253418  175932000"
      ]
     },
     "execution_count": 4,
     "metadata": {},
     "output_type": "execute_result"
    }
   ],
   "source": [
    "data.head(5)"
   ]
  },
  {
   "cell_type": "code",
   "execution_count": 6,
   "metadata": {},
   "outputs": [
    {
     "name": "stdout",
     "output_type": "stream",
     "text": [
      "(239, 2)\n"
     ]
    },
    {
     "data": {
      "text/html": [
       "<div>\n",
       "<style scoped>\n",
       "    .dataframe tbody tr th:only-of-type {\n",
       "        vertical-align: middle;\n",
       "    }\n",
       "\n",
       "    .dataframe tbody tr th {\n",
       "        vertical-align: top;\n",
       "    }\n",
       "\n",
       "    .dataframe thead th {\n",
       "        text-align: right;\n",
       "    }\n",
       "</style>\n",
       "<table border=\"1\" class=\"dataframe\">\n",
       "  <thead>\n",
       "    <tr style=\"text-align: right;\">\n",
       "      <th></th>\n",
       "      <th>Date</th>\n",
       "      <th>Close</th>\n",
       "    </tr>\n",
       "  </thead>\n",
       "  <tbody>\n",
       "    <tr>\n",
       "      <th>0</th>\n",
       "      <td>2023-01-02</td>\n",
       "      <td>4870.0</td>\n",
       "    </tr>\n",
       "    <tr>\n",
       "      <th>1</th>\n",
       "      <td>2023-01-03</td>\n",
       "      <td>4850.0</td>\n",
       "    </tr>\n",
       "    <tr>\n",
       "      <th>2</th>\n",
       "      <td>2023-01-04</td>\n",
       "      <td>4770.0</td>\n",
       "    </tr>\n",
       "    <tr>\n",
       "      <th>3</th>\n",
       "      <td>2023-01-05</td>\n",
       "      <td>4640.0</td>\n",
       "    </tr>\n",
       "    <tr>\n",
       "      <th>4</th>\n",
       "      <td>2023-01-06</td>\n",
       "      <td>4620.0</td>\n",
       "    </tr>\n",
       "    <tr>\n",
       "      <th>...</th>\n",
       "      <td>...</td>\n",
       "      <td>...</td>\n",
       "    </tr>\n",
       "    <tr>\n",
       "      <th>234</th>\n",
       "      <td>2023-12-21</td>\n",
       "      <td>5575.0</td>\n",
       "    </tr>\n",
       "    <tr>\n",
       "      <th>235</th>\n",
       "      <td>2023-12-22</td>\n",
       "      <td>5675.0</td>\n",
       "    </tr>\n",
       "    <tr>\n",
       "      <th>236</th>\n",
       "      <td>2023-12-27</td>\n",
       "      <td>5625.0</td>\n",
       "    </tr>\n",
       "    <tr>\n",
       "      <th>237</th>\n",
       "      <td>2023-12-28</td>\n",
       "      <td>5725.0</td>\n",
       "    </tr>\n",
       "    <tr>\n",
       "      <th>238</th>\n",
       "      <td>2023-12-29</td>\n",
       "      <td>5725.0</td>\n",
       "    </tr>\n",
       "  </tbody>\n",
       "</table>\n",
       "<p>239 rows × 2 columns</p>\n",
       "</div>"
      ],
      "text/plain": [
       "          Date   Close\n",
       "0   2023-01-02  4870.0\n",
       "1   2023-01-03  4850.0\n",
       "2   2023-01-04  4770.0\n",
       "3   2023-01-05  4640.0\n",
       "4   2023-01-06  4620.0\n",
       "..         ...     ...\n",
       "234 2023-12-21  5575.0\n",
       "235 2023-12-22  5675.0\n",
       "236 2023-12-27  5625.0\n",
       "237 2023-12-28  5725.0\n",
       "238 2023-12-29  5725.0\n",
       "\n",
       "[239 rows x 2 columns]"
      ]
     },
     "execution_count": 6,
     "metadata": {},
     "output_type": "execute_result"
    }
   ],
   "source": [
    "data.reset_index(inplace=True)\n",
    "\n",
    "# FEATURE input from user\n",
    "input_feat = input(\"Input feature yang akan digunakan (e.g: Open, High, Low, Close, Adj Close, Volume): \")\n",
    "data = data[[\"Date\", input_feat]]\n",
    "print(data.shape)\n",
    "data"
   ]
  },
  {
   "cell_type": "markdown",
   "metadata": {},
   "source": [
    "## DATA PROCESSING"
   ]
  },
  {
   "cell_type": "code",
   "execution_count": 7,
   "metadata": {},
   "outputs": [],
   "source": [
    "# scaling feature\n",
    "scaler = MinMaxScaler(feature_range=(0, 1))\n",
    "scaled_data = scaler.fit_transform(data[input_feat].values.reshape(-1, 1))"
   ]
  },
  {
   "cell_type": "code",
   "execution_count": 8,
   "metadata": {},
   "outputs": [],
   "source": [
    "# split data into data training and data testing\n",
    "train_size = int(len(scaled_data) * 0.8)\n",
    "train_data, test_data = scaled_data[:train_size, :], scaled_data[train_size:, :]"
   ]
  },
  {
   "cell_type": "code",
   "execution_count": 9,
   "metadata": {},
   "outputs": [],
   "source": [
    "# Create Sequence for splitting the data into different time series to train the model\n",
    "def create_sequences(data, sequence_length):\n",
    "    sequences = []\n",
    "    target = []\n",
    "    for i in range(len(data) - sequence_length):\n",
    "        sequences.append(data[i:i+sequence_length])\n",
    "        target.append(data[i+sequence_length])\n",
    "    return np.array(sequences), np.array(target)"
   ]
  },
  {
   "cell_type": "code",
   "execution_count": 20,
   "metadata": {},
   "outputs": [],
   "source": [
    "sequence_length = 1\n",
    "X_train, y_train = create_sequences(train_data, sequence_length)\n",
    "X_test, y_test = create_sequences(test_data, sequence_length)"
   ]
  },
  {
   "cell_type": "code",
   "execution_count": 19,
   "metadata": {},
   "outputs": [],
   "source": [
    "tf.random.set_seed(7)"
   ]
  },
  {
   "cell_type": "markdown",
   "metadata": {},
   "source": [
    "## Modeling"
   ]
  },
  {
   "cell_type": "code",
   "execution_count": 21,
   "metadata": {},
   "outputs": [
    {
     "name": "stdout",
     "output_type": "stream",
     "text": [
      "Model: \"sequential_1\"\n",
      "_________________________________________________________________\n",
      " Layer (type)                Output Shape              Param #   \n",
      "=================================================================\n",
      " lstm_3 (LSTM)               (None, 1, 128)            66560     \n",
      "                                                                 \n",
      " dropout_3 (Dropout)         (None, 1, 128)            0         \n",
      "                                                                 \n",
      " lstm_4 (LSTM)               (None, 1, 64)             49408     \n",
      "                                                                 \n",
      " dropout_4 (Dropout)         (None, 1, 64)             0         \n",
      "                                                                 \n",
      " lstm_5 (LSTM)               (None, 32)                12416     \n",
      "                                                                 \n",
      " dropout_5 (Dropout)         (None, 32)                0         \n",
      "                                                                 \n",
      " dense_1 (Dense)             (None, 1)                 33        \n",
      "                                                                 \n",
      "=================================================================\n",
      "Total params: 128,417\n",
      "Trainable params: 128,417\n",
      "Non-trainable params: 0\n",
      "_________________________________________________________________\n"
     ]
    }
   ],
   "source": [
    "# model LSTM\n",
    "model = Sequential()\n",
    "model.add(LSTM(units=128, return_sequences=True, input_shape=(sequence_length, 1)))\n",
    "model.add(Dropout(0.2))\n",
    "model.add(LSTM(units=64, return_sequences=True))\n",
    "model.add(Dropout(0.2))\n",
    "model.add(LSTM(units=32))\n",
    "model.add(Dropout(0.2))\n",
    "model.add(Dense(units=1))\n",
    "model.summary()"
   ]
  },
  {
   "cell_type": "markdown",
   "metadata": {},
   "source": [
    "# Training"
   ]
  },
  {
   "cell_type": "code",
   "execution_count": 22,
   "metadata": {},
   "outputs": [
    {
     "name": "stdout",
     "output_type": "stream",
     "text": [
      "Epoch 1/100\n",
      "3/3 - 5s - loss: 0.3965 - mean_absolute_error: 0.5684 - val_loss: 0.4132 - val_mean_absolute_error: 0.6232 - 5s/epoch - 2s/step\n",
      "Epoch 2/100\n",
      "3/3 - 0s - loss: 0.3178 - mean_absolute_error: 0.4983 - val_loss: 0.2852 - val_mean_absolute_error: 0.5126 - 95ms/epoch - 32ms/step\n",
      "Epoch 3/100\n",
      "3/3 - 0s - loss: 0.1948 - mean_absolute_error: 0.3727 - val_loss: 0.0984 - val_mean_absolute_error: 0.2862 - 95ms/epoch - 32ms/step\n",
      "Epoch 4/100\n",
      "3/3 - 0s - loss: 0.0587 - mean_absolute_error: 0.1995 - val_loss: 0.0291 - val_mean_absolute_error: 0.1488 - 79ms/epoch - 26ms/step\n",
      "Epoch 5/100\n",
      "3/3 - 0s - loss: 0.0842 - mean_absolute_error: 0.2547 - val_loss: 0.0364 - val_mean_absolute_error: 0.1697 - 87ms/epoch - 29ms/step\n",
      "Epoch 6/100\n",
      "3/3 - 0s - loss: 0.0544 - mean_absolute_error: 0.1950 - val_loss: 0.0146 - val_mean_absolute_error: 0.0955 - 92ms/epoch - 31ms/step\n",
      "Epoch 7/100\n",
      "3/3 - 0s - loss: 0.0425 - mean_absolute_error: 0.1784 - val_loss: 0.0449 - val_mean_absolute_error: 0.1829 - 68ms/epoch - 23ms/step\n",
      "Epoch 8/100\n",
      "3/3 - 0s - loss: 0.0544 - mean_absolute_error: 0.1978 - val_loss: 0.0516 - val_mean_absolute_error: 0.1984 - 72ms/epoch - 24ms/step\n",
      "Epoch 9/100\n",
      "3/3 - 0s - loss: 0.0503 - mean_absolute_error: 0.1922 - val_loss: 0.0320 - val_mean_absolute_error: 0.1514 - 69ms/epoch - 23ms/step\n",
      "Epoch 10/100\n",
      "3/3 - 0s - loss: 0.0389 - mean_absolute_error: 0.1724 - val_loss: 0.0117 - val_mean_absolute_error: 0.0833 - 70ms/epoch - 23ms/step\n",
      "Epoch 11/100\n",
      "3/3 - 0s - loss: 0.0298 - mean_absolute_error: 0.1440 - val_loss: 0.0114 - val_mean_absolute_error: 0.0856 - 74ms/epoch - 25ms/step\n",
      "Epoch 12/100\n",
      "3/3 - 0s - loss: 0.0382 - mean_absolute_error: 0.1613 - val_loss: 0.0100 - val_mean_absolute_error: 0.0792 - 77ms/epoch - 26ms/step\n",
      "Epoch 13/100\n",
      "3/3 - 0s - loss: 0.0293 - mean_absolute_error: 0.1387 - val_loss: 0.0091 - val_mean_absolute_error: 0.0721 - 73ms/epoch - 24ms/step\n",
      "Epoch 14/100\n",
      "3/3 - 0s - loss: 0.0243 - mean_absolute_error: 0.1334 - val_loss: 0.0153 - val_mean_absolute_error: 0.1038 - 71ms/epoch - 24ms/step\n",
      "Epoch 15/100\n",
      "3/3 - 0s - loss: 0.0210 - mean_absolute_error: 0.1240 - val_loss: 0.0134 - val_mean_absolute_error: 0.0975 - 67ms/epoch - 22ms/step\n",
      "Epoch 16/100\n",
      "3/3 - 0s - loss: 0.0175 - mean_absolute_error: 0.1074 - val_loss: 0.0071 - val_mean_absolute_error: 0.0641 - 78ms/epoch - 26ms/step\n",
      "Epoch 17/100\n",
      "3/3 - 0s - loss: 0.0143 - mean_absolute_error: 0.0973 - val_loss: 0.0047 - val_mean_absolute_error: 0.0499 - 87ms/epoch - 29ms/step\n",
      "Epoch 18/100\n",
      "3/3 - 0s - loss: 0.0120 - mean_absolute_error: 0.0903 - val_loss: 0.0043 - val_mean_absolute_error: 0.0484 - 93ms/epoch - 31ms/step\n",
      "Epoch 19/100\n",
      "3/3 - 0s - loss: 0.0127 - mean_absolute_error: 0.0915 - val_loss: 0.0064 - val_mean_absolute_error: 0.0638 - 92ms/epoch - 31ms/step\n",
      "Epoch 20/100\n",
      "3/3 - 0s - loss: 0.0095 - mean_absolute_error: 0.0758 - val_loss: 0.0073 - val_mean_absolute_error: 0.0695 - 107ms/epoch - 36ms/step\n",
      "Epoch 21/100\n",
      "3/3 - 0s - loss: 0.0087 - mean_absolute_error: 0.0738 - val_loss: 0.0051 - val_mean_absolute_error: 0.0538 - 90ms/epoch - 30ms/step\n",
      "Epoch 22/100\n",
      "3/3 - 0s - loss: 0.0073 - mean_absolute_error: 0.0658 - val_loss: 0.0051 - val_mean_absolute_error: 0.0540 - 67ms/epoch - 22ms/step\n",
      "Epoch 23/100\n",
      "3/3 - 0s - loss: 0.0092 - mean_absolute_error: 0.0711 - val_loss: 0.0069 - val_mean_absolute_error: 0.0650 - 72ms/epoch - 24ms/step\n",
      "Epoch 24/100\n",
      "3/3 - 0s - loss: 0.0085 - mean_absolute_error: 0.0709 - val_loss: 0.0070 - val_mean_absolute_error: 0.0659 - 70ms/epoch - 23ms/step\n",
      "Epoch 25/100\n",
      "3/3 - 0s - loss: 0.0083 - mean_absolute_error: 0.0688 - val_loss: 0.0050 - val_mean_absolute_error: 0.0547 - 70ms/epoch - 23ms/step\n",
      "Epoch 26/100\n",
      "3/3 - 0s - loss: 0.0090 - mean_absolute_error: 0.0709 - val_loss: 0.0049 - val_mean_absolute_error: 0.0547 - 69ms/epoch - 23ms/step\n",
      "Epoch 27/100\n",
      "3/3 - 0s - loss: 0.0092 - mean_absolute_error: 0.0717 - val_loss: 0.0067 - val_mean_absolute_error: 0.0639 - 69ms/epoch - 23ms/step\n",
      "Epoch 28/100\n",
      "Restoring model weights from the end of the best epoch: 18.\n",
      "3/3 - 0s - loss: 0.0098 - mean_absolute_error: 0.0783 - val_loss: 0.0069 - val_mean_absolute_error: 0.0653 - 108ms/epoch - 36ms/step\n",
      "Epoch 28: early stopping\n"
     ]
    }
   ],
   "source": [
    "# training process\n",
    "optimizer = Adam(learning_rate=0.005)\n",
    "early_stopping = EarlyStopping(monitor='val_loss', patience=10, verbose=1, restore_best_weights=True)\n",
    "model.compile(loss='mean_squared_error', optimizer=optimizer, metrics=['mean_absolute_error'])\n",
    "model_final = model.fit(X_train, y_train, epochs=100, batch_size=64, verbose=2,\n",
    "                        callbacks=[ early_stopping],\n",
    "                        validation_data=(X_test, y_test))"
   ]
  },
  {
   "cell_type": "markdown",
   "metadata": {},
   "source": [
    "## Evaluation"
   ]
  },
  {
   "cell_type": "code",
   "execution_count": 23,
   "metadata": {},
   "outputs": [
    {
     "name": "stdout",
     "output_type": "stream",
     "text": [
      "2/2 [==============================] - 0s 8ms/step - loss: 0.0043 - mean_absolute_error: 0.0484\n",
      "Loss : [0.00433, 0.04841]\n",
      "2/2 [==============================] - 1s 5ms/step\n"
     ]
    }
   ],
   "source": [
    "# Returns the loss value & metrics values for the model in test mode\n",
    "loss = model.evaluate(X_test, y_test)\n",
    "round_loss = [round(num, 5) for num in loss]\n",
    "print(\"Loss :\", round_loss)\n",
    "\n",
    "predict = model.predict(X_test)"
   ]
  },
  {
   "cell_type": "code",
   "execution_count": 24,
   "metadata": {},
   "outputs": [
    {
     "name": "stdout",
     "output_type": "stream",
     "text": [
      "-----  Metric  -----\n",
      "RMSE :  0.06577\n",
      "MSE  :  0.00433\n",
      "MAE  :  0.04841\n"
     ]
    }
   ],
   "source": [
    "print(\"-\"*5, \" Metric \",\"-\"*5)\n",
    "print('RMSE : ', round(sqrt(metrics.mean_squared_error(y_test, predict)), 5))\n",
    "print('MSE  : ', round(abs(metrics.mean_squared_error(y_test, predict)), 5))\n",
    "print('MAE  : ', round(metrics.mean_absolute_error(y_test, predict), 5))"
   ]
  },
  {
   "cell_type": "markdown",
   "metadata": {},
   "source": [
    "## Visualization"
   ]
  },
  {
   "cell_type": "code",
   "execution_count": 25,
   "metadata": {},
   "outputs": [
    {
     "data": {
      "image/png": "[encoded data removed]",
      "text/plain": [
       "<Figure size 640x480 with 1 Axes>"
      ]
     },
     "metadata": {},
     "output_type": "display_data"
    }
   ],
   "source": [
    "# Plot loss\n",
    "sns.set(style=\"whitegrid\")\n",
    "\n",
    "sns.lineplot(x=range(len(model_final.history['loss'])), y=model_final.history['loss'], label='Training Loss')\n",
    "sns.lineplot(x=range(len(model_final.history['val_loss'])), y=model_final.history['val_loss'], label='Validation Loss')\n",
    "plt.xlabel('Epoch')\n",
    "plt.ylabel('Loss')\n",
    "plt.title('Training and Validation Loss Over Epochs')\n",
    "plt.legend()\n",
    "plt.show()"
   ]
  },
  {
   "cell_type": "markdown",
   "metadata": {},
   "source": [
    "## Saving Model"
   ]
  },
  {
   "cell_type": "code",
   "execution_count": 26,
   "metadata": {},
   "outputs": [
    {
     "ename": "NameError",
     "evalue": "name 'time' is not defined",
     "output_type": "error",
     "traceback": [
      "\u001b[1;31m---------------------------------------------------------------------------\u001b[0m",
      "\u001b[1;31mNameError\u001b[0m                                 Traceback (most recent call last)",
      "Cell \u001b[1;32mIn[26], line 1\u001b[0m\n\u001b[1;32m----> 1\u001b[0m ts \u001b[38;5;241m=\u001b[39m \u001b[38;5;28mint\u001b[39m(\u001b[43mtime\u001b[49m\u001b[38;5;241m.\u001b[39mtime())\n\u001b[0;32m      2\u001b[0m file_path \u001b[38;5;241m=\u001b[39m \u001b[38;5;124mf\u001b[39m\u001b[38;5;124m\"\u001b[39m\u001b[38;5;124m../lstm_stock/\u001b[39m\u001b[38;5;132;01m{\u001b[39;00mts\u001b[38;5;132;01m}\u001b[39;00m\u001b[38;5;124m/\u001b[39m\u001b[38;5;124m\"\u001b[39m\n\u001b[0;32m      3\u001b[0m model\u001b[38;5;241m.\u001b[39msave(filepath\u001b[38;5;241m=\u001b[39mfile_path, save_format\u001b[38;5;241m=\u001b[39m\u001b[38;5;124m'\u001b[39m\u001b[38;5;124mtf\u001b[39m\u001b[38;5;124m'\u001b[39m)\n",
      "\u001b[1;31mNameError\u001b[0m: name 'time' is not defined"
     ]
    }
   ],
   "source": [
    "ts = int(time.time())\n",
    "file_path = f\"../lstm_stock/{ts}/\"\n",
    "model.save(filepath=file_path, save_format='tf')\n",
    "print(\"Success saving model!\")"
   ]
  }
 ],
 "metadata": {
  "kernelspec": {
   "display_name": "Python 3 (ipykernel)",
   "language": "python",
   "name": "python3"
  },
  "language_info": {
   "codemirror_mode": {
    "name": "ipython",
    "version": 3
   },
   "file_extension": ".py",
   "mimetype": "text/x-python",
   "name": "python",
   "nbconvert_exporter": "python",
   "pygments_lexer": "ipython3",
   "version": "3.9.18"
  }
 },
 "nbformat": 4,
 "nbformat_minor": 4
}
