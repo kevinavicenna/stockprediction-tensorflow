{
 "cells": [
  {
   "cell_type": "code",
   "execution_count": 36,
   "metadata": {},
   "outputs": [],
   "source": [
    "import yfinance as yf\n",
    "from datetime import date\n",
    "import pandas as pd\n",
    "import numpy as np\n",
    "from sklearn import metrics\n",
    "from math import sqrt\n",
    "import matplotlib.pyplot as plt\n"
   ]
  },
  {
   "cell_type": "code",
   "execution_count": 37,
   "metadata": {},
   "outputs": [],
   "source": [
    "from sklearn.preprocessing import MinMaxScaler\n",
    "import tensorflow as tf\n",
    "from tensorflow.keras.models import Sequential\n",
    "from tensorflow.keras.layers import Embedding, LSTM, Dense, Dropout\n",
    "from tensorflow.keras.callbacks import ModelCheckpoint\n",
    "from tensorflow.keras.callbacks import EarlyStopping\n",
    "from tensorflow.keras.optimizers import Adam"
   ]
  },
  {
   "cell_type": "code",
   "execution_count": 38,
   "metadata": {},
   "outputs": [
    {
     "name": "stderr",
     "output_type": "stream",
     "text": [
      "c:\\Users\\kevin\\miniconda3\\envs\\tf\\lib\\site-packages\\yfinance\\utils.py:775: FutureWarning: The 'unit' keyword in TimedeltaIndex construction is deprecated and will be removed in a future version. Use pd.to_timedelta instead.\n",
      "  df.index += _pd.TimedeltaIndex(dst_error_hours, 'h')\n",
      "[*********************100%%**********************]  1 of 1 completed\n"
     ]
    },
    {
     "data": {
      "text/html": [
       "<div>\n",
       "<style scoped>\n",
       "    .dataframe tbody tr th:only-of-type {\n",
       "        vertical-align: middle;\n",
       "    }\n",
       "\n",
       "    .dataframe tbody tr th {\n",
       "        vertical-align: top;\n",
       "    }\n",
       "\n",
       "    .dataframe thead th {\n",
       "        text-align: right;\n",
       "    }\n",
       "</style>\n",
       "<table border=\"1\" class=\"dataframe\">\n",
       "  <thead>\n",
       "    <tr style=\"text-align: right;\">\n",
       "      <th></th>\n",
       "      <th>Date</th>\n",
       "      <th>Close</th>\n",
       "    </tr>\n",
       "  </thead>\n",
       "  <tbody>\n",
       "    <tr>\n",
       "      <th>0</th>\n",
       "      <td>2019-01-01</td>\n",
       "      <td>3327.215332</td>\n",
       "    </tr>\n",
       "    <tr>\n",
       "      <th>1</th>\n",
       "      <td>2019-01-02</td>\n",
       "      <td>3281.761475</td>\n",
       "    </tr>\n",
       "    <tr>\n",
       "      <th>2</th>\n",
       "      <td>2019-01-03</td>\n",
       "      <td>3290.852295</td>\n",
       "    </tr>\n",
       "    <tr>\n",
       "      <th>3</th>\n",
       "      <td>2019-01-04</td>\n",
       "      <td>3327.215332</td>\n",
       "    </tr>\n",
       "    <tr>\n",
       "      <th>4</th>\n",
       "      <td>2019-01-07</td>\n",
       "      <td>3327.215332</td>\n",
       "    </tr>\n",
       "    <tr>\n",
       "      <th>...</th>\n",
       "      <td>...</td>\n",
       "      <td>...</td>\n",
       "    </tr>\n",
       "    <tr>\n",
       "      <th>1285</th>\n",
       "      <td>2024-03-22</td>\n",
       "      <td>6125.000000</td>\n",
       "    </tr>\n",
       "    <tr>\n",
       "      <th>1286</th>\n",
       "      <td>2024-03-25</td>\n",
       "      <td>6250.000000</td>\n",
       "    </tr>\n",
       "    <tr>\n",
       "      <th>1287</th>\n",
       "      <td>2024-03-26</td>\n",
       "      <td>6300.000000</td>\n",
       "    </tr>\n",
       "    <tr>\n",
       "      <th>1288</th>\n",
       "      <td>2024-03-27</td>\n",
       "      <td>6250.000000</td>\n",
       "    </tr>\n",
       "    <tr>\n",
       "      <th>1289</th>\n",
       "      <td>2024-03-28</td>\n",
       "      <td>6050.000000</td>\n",
       "    </tr>\n",
       "  </tbody>\n",
       "</table>\n",
       "<p>1290 rows × 2 columns</p>\n",
       "</div>"
      ],
      "text/plain": [
       "           Date        Close\n",
       "0    2019-01-01  3327.215332\n",
       "1    2019-01-02  3281.761475\n",
       "2    2019-01-03  3290.852295\n",
       "3    2019-01-04  3327.215332\n",
       "4    2019-01-07  3327.215332\n",
       "...         ...          ...\n",
       "1285 2024-03-22  6125.000000\n",
       "1286 2024-03-25  6250.000000\n",
       "1287 2024-03-26  6300.000000\n",
       "1288 2024-03-27  6250.000000\n",
       "1289 2024-03-28  6050.000000\n",
       "\n",
       "[1290 rows x 2 columns]"
      ]
     },
     "execution_count": 38,
     "metadata": {},
     "output_type": "execute_result"
    }
   ],
   "source": [
    "# Input dari pengguna untuk simbol saham\n",
    "symbol = input(\"Masukkan simbol saham (misalnya 'AAPL'): \")\n",
    "start_date = date(2019, 1, 1)\n",
    "end_date = date(2024, 3, 31)\n",
    "\n",
    "# Mengunduh data saham dari Yahoo Finance # Menambahkan kolom tanggal sebagai indeks\n",
    "data = yf.download(symbol, start=start_date, end=end_date)\n",
    "data.reset_index(inplace=True)\n",
    "\n",
    "# Input dari pengguna untuk fitur yang akan digunakan\n",
    "input_feat = input(\"Masukkan fitur yang akan digunakan ('Adj Close','Close'): \")\n",
    "\n",
    "\n",
    "data = data[[\"Date\", input_feat]]# Memilih kolom tanggal dan fitur yang akan digunakan\n",
    "data"
   ]
  },
  {
   "cell_type": "code",
   "execution_count": 39,
   "metadata": {},
   "outputs": [],
   "source": [
    "scaler = MinMaxScaler(feature_range=(0, 1))\n",
    "scaled_data = scaler.fit_transform(data[input_feat].values.reshape(-1, 1))"
   ]
  },
  {
   "cell_type": "code",
   "execution_count": 40,
   "metadata": {},
   "outputs": [],
   "source": [
    "# Pembagian data menjadi data latih dan data uji\n",
    "train_size = int(len(scaled_data) * 0.8)\n",
    "train_data, test_data = scaled_data[:train_size, :], scaled_data[train_size:, :]"
   ]
  },
  {
   "cell_type": "code",
   "execution_count": 41,
   "metadata": {},
   "outputs": [],
   "source": [
    "# Persiapan Create Sequences LSTM\n",
    "def create_sequences(data, sequence_length):\n",
    "    sequences = []\n",
    "    target = []\n",
    "    for i in range(len(data) - sequence_length):\n",
    "        sequences.append(data[i:i+sequence_length])\n",
    "        target.append(data[i+sequence_length])\n",
    "    return np.array(sequences), np.array(target)"
   ]
  },
  {
   "cell_type": "code",
   "execution_count": 42,
   "metadata": {},
   "outputs": [],
   "source": [
    "tf.random.set_seed(7)"
   ]
  },
  {
   "cell_type": "code",
   "execution_count": 43,
   "metadata": {},
   "outputs": [],
   "source": [
    "sequence_length = 1 \n",
    "X_train, y_train = create_sequences(train_data, sequence_length)\n",
    "X_test, y_test = create_sequences(test_data, sequence_length)"
   ]
  },
  {
   "cell_type": "code",
   "execution_count": 44,
   "metadata": {},
   "outputs": [
    {
     "name": "stdout",
     "output_type": "stream",
     "text": [
      "Model: \"sequential_2\"\n",
      "_________________________________________________________________\n",
      " Layer (type)                Output Shape              Param #   \n",
      "=================================================================\n",
      " lstm_6 (LSTM)               (None, 1, 50)             10400     \n",
      "                                                                 \n",
      " dropout_6 (Dropout)         (None, 1, 50)             0         \n",
      "                                                                 \n",
      " lstm_7 (LSTM)               (None, 1, 50)             20200     \n",
      "                                                                 \n",
      " dropout_7 (Dropout)         (None, 1, 50)             0         \n",
      "                                                                 \n",
      " lstm_8 (LSTM)               (None, 50)                20200     \n",
      "                                                                 \n",
      " dropout_8 (Dropout)         (None, 50)                0         \n",
      "                                                                 \n",
      " dense_2 (Dense)             (None, 1)                 51        \n",
      "                                                                 \n",
      "=================================================================\n",
      "Total params: 50,851\n",
      "Trainable params: 50,851\n",
      "Non-trainable params: 0\n",
      "_________________________________________________________________\n"
     ]
    }
   ],
   "source": [
    "model = Sequential()\n",
    "\n",
    "model.add(LSTM(units = 50, return_sequences = True, input_shape=(sequence_length, 1)))\n",
    "model.add(Dropout(0.2))\n",
    "\n",
    "model.add(LSTM(units = 50, return_sequences = True))\n",
    "model.add(Dropout(0.2))\n",
    "\n",
    "model.add(LSTM(units = 50))\n",
    "model.add(Dropout(0.2))\n",
    "\n",
    "model.add(Dense(units = 1))\n",
    "\n",
    "model.compile(optimizer = 'adam', loss = 'mean_squared_error')\n",
    "\n",
    "model.summary()"
   ]
  },
  {
   "cell_type": "code",
   "execution_count": 45,
   "metadata": {},
   "outputs": [
    {
     "name": "stdout",
     "output_type": "stream",
     "text": [
      "Epoch 1/100\n"
     ]
    },
    {
     "name": "stderr",
     "output_type": "stream",
     "text": [
      "WARNING:absl:Found untraced functions such as lstm_cell_6_layer_call_fn, lstm_cell_6_layer_call_and_return_conditional_losses, lstm_cell_7_layer_call_fn, lstm_cell_7_layer_call_and_return_conditional_losses, lstm_cell_8_layer_call_fn while saving (showing 5 of 6). These functions will not be directly callable after loading.\n"
     ]
    },
    {
     "name": "stdout",
     "output_type": "stream",
     "text": [
      "INFO:tensorflow:Assets written to: ../model/model2\\assets\n"
     ]
    },
    {
     "name": "stderr",
     "output_type": "stream",
     "text": [
      "INFO:tensorflow:Assets written to: ../model/model2\\assets\n"
     ]
    },
    {
     "name": "stdout",
     "output_type": "stream",
     "text": [
      "33/33 - 18s - loss: 0.1409 - accuracy: 9.6993e-04 - val_loss: 0.2836 - val_accuracy: 0.0000e+00 - 18s/epoch - 539ms/step\n",
      "Epoch 2/100\n"
     ]
    },
    {
     "name": "stderr",
     "output_type": "stream",
     "text": [
      "WARNING:absl:Found untraced functions such as lstm_cell_6_layer_call_fn, lstm_cell_6_layer_call_and_return_conditional_losses, lstm_cell_7_layer_call_fn, lstm_cell_7_layer_call_and_return_conditional_losses, lstm_cell_8_layer_call_fn while saving (showing 5 of 6). These functions will not be directly callable after loading.\n"
     ]
    },
    {
     "name": "stdout",
     "output_type": "stream",
     "text": [
      "INFO:tensorflow:Assets written to: ../model/model2\\assets\n"
     ]
    },
    {
     "name": "stderr",
     "output_type": "stream",
     "text": [
      "INFO:tensorflow:Assets written to: ../model/model2\\assets\n"
     ]
    },
    {
     "name": "stdout",
     "output_type": "stream",
     "text": [
      "33/33 - 11s - loss: 0.0218 - accuracy: 9.6993e-04 - val_loss: 0.0811 - val_accuracy: 0.0039 - 11s/epoch - 333ms/step\n",
      "Epoch 3/100\n"
     ]
    },
    {
     "name": "stderr",
     "output_type": "stream",
     "text": [
      "WARNING:absl:Found untraced functions such as lstm_cell_6_layer_call_fn, lstm_cell_6_layer_call_and_return_conditional_losses, lstm_cell_7_layer_call_fn, lstm_cell_7_layer_call_and_return_conditional_losses, lstm_cell_8_layer_call_fn while saving (showing 5 of 6). These functions will not be directly callable after loading.\n"
     ]
    },
    {
     "name": "stdout",
     "output_type": "stream",
     "text": [
      "INFO:tensorflow:Assets written to: ../model/model2\\assets\n"
     ]
    },
    {
     "name": "stderr",
     "output_type": "stream",
     "text": [
      "INFO:tensorflow:Assets written to: ../model/model2\\assets\n"
     ]
    },
    {
     "name": "stdout",
     "output_type": "stream",
     "text": [
      "33/33 - 11s - loss: 0.0118 - accuracy: 9.6993e-04 - val_loss: 0.0544 - val_accuracy: 0.0039 - 11s/epoch - 330ms/step\n",
      "Epoch 4/100\n"
     ]
    },
    {
     "name": "stderr",
     "output_type": "stream",
     "text": [
      "WARNING:absl:Found untraced functions such as lstm_cell_6_layer_call_fn, lstm_cell_6_layer_call_and_return_conditional_losses, lstm_cell_7_layer_call_fn, lstm_cell_7_layer_call_and_return_conditional_losses, lstm_cell_8_layer_call_fn while saving (showing 5 of 6). These functions will not be directly callable after loading.\n"
     ]
    },
    {
     "name": "stdout",
     "output_type": "stream",
     "text": [
      "INFO:tensorflow:Assets written to: ../model/model2\\assets\n"
     ]
    },
    {
     "name": "stderr",
     "output_type": "stream",
     "text": [
      "INFO:tensorflow:Assets written to: ../model/model2\\assets\n"
     ]
    },
    {
     "name": "stdout",
     "output_type": "stream",
     "text": [
      "33/33 - 11s - loss: 0.0097 - accuracy: 9.6993e-04 - val_loss: 0.0374 - val_accuracy: 0.0039 - 11s/epoch - 330ms/step\n",
      "Epoch 5/100\n"
     ]
    },
    {
     "name": "stderr",
     "output_type": "stream",
     "text": [
      "WARNING:absl:Found untraced functions such as lstm_cell_6_layer_call_fn, lstm_cell_6_layer_call_and_return_conditional_losses, lstm_cell_7_layer_call_fn, lstm_cell_7_layer_call_and_return_conditional_losses, lstm_cell_8_layer_call_fn while saving (showing 5 of 6). These functions will not be directly callable after loading.\n"
     ]
    },
    {
     "name": "stdout",
     "output_type": "stream",
     "text": [
      "INFO:tensorflow:Assets written to: ../model/model2\\assets\n"
     ]
    },
    {
     "name": "stderr",
     "output_type": "stream",
     "text": [
      "INFO:tensorflow:Assets written to: ../model/model2\\assets\n"
     ]
    },
    {
     "name": "stdout",
     "output_type": "stream",
     "text": [
      "33/33 - 11s - loss: 0.0073 - accuracy: 9.6993e-04 - val_loss: 0.0175 - val_accuracy: 0.0039 - 11s/epoch - 330ms/step\n",
      "Epoch 6/100\n"
     ]
    },
    {
     "name": "stderr",
     "output_type": "stream",
     "text": [
      "WARNING:absl:Found untraced functions such as lstm_cell_6_layer_call_fn, lstm_cell_6_layer_call_and_return_conditional_losses, lstm_cell_7_layer_call_fn, lstm_cell_7_layer_call_and_return_conditional_losses, lstm_cell_8_layer_call_fn while saving (showing 5 of 6). These functions will not be directly callable after loading.\n"
     ]
    },
    {
     "name": "stdout",
     "output_type": "stream",
     "text": [
      "INFO:tensorflow:Assets written to: ../model/model2\\assets\n"
     ]
    },
    {
     "name": "stderr",
     "output_type": "stream",
     "text": [
      "INFO:tensorflow:Assets written to: ../model/model2\\assets\n"
     ]
    },
    {
     "name": "stdout",
     "output_type": "stream",
     "text": [
      "33/33 - 10s - loss: 0.0050 - accuracy: 9.6993e-04 - val_loss: 0.0052 - val_accuracy: 0.0039 - 10s/epoch - 304ms/step\n",
      "Epoch 7/100\n"
     ]
    },
    {
     "name": "stderr",
     "output_type": "stream",
     "text": [
      "WARNING:absl:Found untraced functions such as lstm_cell_6_layer_call_fn, lstm_cell_6_layer_call_and_return_conditional_losses, lstm_cell_7_layer_call_fn, lstm_cell_7_layer_call_and_return_conditional_losses, lstm_cell_8_layer_call_fn while saving (showing 5 of 6). These functions will not be directly callable after loading.\n"
     ]
    },
    {
     "name": "stdout",
     "output_type": "stream",
     "text": [
      "INFO:tensorflow:Assets written to: ../model/model2\\assets\n"
     ]
    },
    {
     "name": "stderr",
     "output_type": "stream",
     "text": [
      "INFO:tensorflow:Assets written to: ../model/model2\\assets\n"
     ]
    },
    {
     "name": "stdout",
     "output_type": "stream",
     "text": [
      "33/33 - 9s - loss: 0.0036 - accuracy: 9.6993e-04 - val_loss: 6.4079e-04 - val_accuracy: 0.0039 - 9s/epoch - 287ms/step\n",
      "Epoch 8/100\n",
      "33/33 - 1s - loss: 0.0030 - accuracy: 9.6993e-04 - val_loss: 0.0025 - val_accuracy: 0.0039 - 531ms/epoch - 16ms/step\n",
      "Epoch 9/100\n",
      "33/33 - 0s - loss: 0.0027 - accuracy: 9.6993e-04 - val_loss: 0.0043 - val_accuracy: 0.0039 - 439ms/epoch - 13ms/step\n",
      "Epoch 10/100\n",
      "Restoring model weights from the end of the best epoch: 7.\n",
      "33/33 - 0s - loss: 0.0026 - accuracy: 9.6993e-04 - val_loss: 0.0031 - val_accuracy: 0.0039 - 480ms/epoch - 15ms/step\n",
      "Epoch 10: early stopping\n"
     ]
    }
   ],
   "source": [
    "cp3 = ModelCheckpoint('../model/model2/', save_best_only=True)\n",
    "early_stopping = EarlyStopping(monitor='val_loss', patience=3, verbose=1, restore_best_weights=True)\n",
    "\n",
    "optimizer = Adam(learning_rate=0.001)\n",
    "model.compile(loss='mean_squared_error', optimizer=optimizer, metrics=['accuracy'])\n",
    "# model.compile(loss='mean_squared_error', optimizer='adam', metrics=['accuracy'])\n",
    "history = model.fit(X_train, y_train, epochs=100, batch_size=32, verbose=2, callbacks=[cp3, early_stopping], validation_data=(X_test, y_test))"
   ]
  },
  {
   "cell_type": "code",
   "execution_count": 46,
   "metadata": {},
   "outputs": [
    {
     "data": {
      "image/png": "[encoded data removed]",
      "text/plain": [
       "<Figure size 640x480 with 1 Axes>"
      ]
     },
     "metadata": {},
     "output_type": "display_data"
    }
   ],
   "source": [
    "# Plot loss\n",
    "plt.plot(history.history['loss'], label='Training Loss')\n",
    "plt.plot(history.history['val_loss'], label='Validation Loss')\n",
    "plt.xlabel('Epoch')\n",
    "plt.ylabel('Loss')\n",
    "plt.legend()\n",
    "plt.show()"
   ]
  },
  {
   "cell_type": "code",
   "execution_count": 47,
   "metadata": {},
   "outputs": [
    {
     "data": {
      "image/png": "[encoded data removed]",
      "text/plain": [
       "<Figure size 640x480 with 1 Axes>"
      ]
     },
     "metadata": {},
     "output_type": "display_data"
    }
   ],
   "source": [
    "# Misalnya, jika Anda memiliki metrik akurasi:\n",
    "plt.plot(history.history['accuracy'], label='Training Accuracy')\n",
    "plt.plot(history.history['val_accuracy'], label='Validation Accuracy')\n",
    "plt.xlabel('Epoch')\n",
    "plt.ylabel('Accuracy')\n",
    "plt.legend()\n",
    "plt.show()"
   ]
  },
  {
   "cell_type": "code",
   "execution_count": 48,
   "metadata": {},
   "outputs": [
    {
     "name": "stdout",
     "output_type": "stream",
     "text": [
      "9/9 [==============================] - 0s 11ms/step - loss: 6.4079e-04 - accuracy: 0.0039\n",
      "Loss di data uji: [0.0006407867185771465, 0.0038910505827516317]\n",
      "Loss di data uji: [0.0006407867185771465, 0.0038910505827516317]\n",
      "9/9 [==============================] - 1s 7ms/step\n"
     ]
    }
   ],
   "source": [
    "# Evaluasi model pada data uji\n",
    "loss = model.evaluate(X_test, y_test)\n",
    "print(\"Loss di data uji:\", loss)\n",
    "\n",
    "print(\"Loss di data uji:\", loss)\n",
    "predict = model.predict(X_test)\n",
    "# print(predict)"
   ]
  },
  {
   "cell_type": "code",
   "execution_count": 49,
   "metadata": {},
   "outputs": [
    {
     "name": "stdout",
     "output_type": "stream",
     "text": [
      "[[4701.717 ]\n",
      " [4560.4775]\n",
      " [4610.4834]\n",
      " [4671.131 ]\n",
      " [4650.8374]\n",
      " [4681.3066]\n",
      " [4732.477 ]\n",
      " [4732.477 ]\n",
      " [4701.717 ]\n",
      " [4711.95  ]\n",
      " [4722.2036]\n",
      " [4600.444 ]\n",
      " [4590.4233]\n",
      " [4620.543 ]\n",
      " [4794.525 ]\n",
      " [4773.764 ]\n",
      " [4794.525 ]\n",
      " [4660.974 ]\n",
      " [4630.6216]\n",
      " [4660.974 ]\n",
      " [4701.717 ]\n",
      " [4640.7197]\n",
      " [4620.543 ]\n",
      " [4691.502 ]\n",
      " [4711.95  ]\n",
      " [4722.2036]\n",
      " [4732.477 ]\n",
      " [4753.0815]\n",
      " [4773.764 ]\n",
      " [4825.8125]\n",
      " [4878.351 ]\n",
      " [4979.5254]\n",
      " [4888.917 ]\n",
      " [4846.7695]\n",
      " [4926.0547]\n",
      " [5060.655 ]\n",
      " [5006.445 ]\n",
      " [5060.655 ]\n",
      " [5006.445 ]\n",
      " [5060.655 ]\n",
      " [5142.8955]\n",
      " [5006.445 ]\n",
      " [5033.489 ]\n",
      " [5060.655 ]\n",
      " [5060.655 ]\n",
      " [5060.655 ]\n",
      " [5060.655 ]\n",
      " [5115.359 ]\n",
      " [5115.359 ]\n",
      " [5339.1187]\n",
      " [5367.6465]\n",
      " [5453.973 ]\n",
      " [5570.811 ]\n",
      " [5425.073 ]\n",
      " [5570.811 ]\n",
      " [5512.144 ]\n",
      " [5453.973 ]\n",
      " [5541.4155]\n",
      " [5367.6465]\n",
      " [5396.298 ]\n",
      " [5339.1187]\n",
      " [5425.073 ]\n",
      " [5367.6465]\n",
      " [5339.1187]\n",
      " [5512.144 ]\n",
      " [5512.144 ]\n",
      " [5482.9966]\n",
      " [5512.144 ]\n",
      " [5482.9966]\n",
      " [5512.144 ]\n",
      " [5541.4155]\n",
      " [5425.073 ]\n",
      " [5339.1187]\n",
      " [5396.298 ]\n",
      " [5367.6465]\n",
      " [5425.073 ]\n",
      " [5396.298 ]\n",
      " [5396.298 ]\n",
      " [5367.6465]\n",
      " [5310.716 ]\n",
      " [5339.1187]\n",
      " [5367.6465]\n",
      " [5396.298 ]\n",
      " [5396.298 ]\n",
      " [5482.9966]\n",
      " [5541.4155]\n",
      " [5600.3315]\n",
      " [5600.3315]\n",
      " [5600.3315]\n",
      " [5570.811 ]\n",
      " [5629.9746]\n",
      " [5659.7417]\n",
      " [5629.9746]\n",
      " [5689.633 ]\n",
      " [5629.9746]\n",
      " [5689.633 ]\n",
      " [5689.633 ]\n",
      " [5689.633 ]\n",
      " [5541.4155]\n",
      " [5689.633 ]\n",
      " [5600.3315]\n",
      " [5689.633 ]\n",
      " [5689.633 ]\n",
      " [5629.9746]\n",
      " [5629.9746]\n",
      " [5541.4155]\n",
      " [5482.9966]\n",
      " [5541.4155]\n",
      " [5453.973 ]\n",
      " [5541.4155]\n",
      " [5570.811 ]\n",
      " [5512.144 ]\n",
      " [5570.811 ]\n",
      " [5512.144 ]\n",
      " [5570.811 ]\n",
      " [5482.9966]\n",
      " [5512.144 ]\n",
      " [5541.4155]\n",
      " [5600.3315]\n",
      " [5600.3315]\n",
      " [5541.4155]\n",
      " [5396.298 ]\n",
      " [5282.436 ]\n",
      " [5367.6465]\n",
      " [5310.716 ]\n",
      " [5339.1187]\n",
      " [5367.6465]\n",
      " [5310.716 ]\n",
      " [5254.2803]\n",
      " [5310.716 ]\n",
      " [5310.716 ]\n",
      " [5282.436 ]\n",
      " [5282.436 ]\n",
      " [5226.2485]\n",
      " [5115.359 ]\n",
      " [5142.8955]\n",
      " [5142.8955]\n",
      " [5170.5557]\n",
      " [5198.341 ]\n",
      " [5170.5557]\n",
      " [5087.9453]\n",
      " [5087.9453]\n",
      " [5033.489 ]\n",
      " [5087.9453]\n",
      " [5170.5557]\n",
      " [5226.2485]\n",
      " [5198.341 ]\n",
      " [5170.5557]\n",
      " [5060.655 ]\n",
      " [5060.655 ]\n",
      " [4899.5034]\n",
      " [4952.729 ]\n",
      " [4899.5034]\n",
      " [5006.445 ]\n",
      " [5087.9453]\n",
      " [4815.3643]\n",
      " [4899.5034]\n",
      " [4899.5034]\n",
      " [4857.2764]\n",
      " [4722.2036]\n",
      " [4899.5034]\n",
      " [5006.445 ]\n",
      " [5115.359 ]\n",
      " [5170.5557]\n",
      " [5142.8955]\n",
      " [5115.359 ]\n",
      " [4979.5254]\n",
      " [4926.0547]\n",
      " [4979.5254]\n",
      " [5170.5557]\n",
      " [5170.5557]\n",
      " [5142.8955]\n",
      " [5170.5557]\n",
      " [5115.359 ]\n",
      " [5198.341 ]\n",
      " [5282.436 ]\n",
      " [5339.1187]\n",
      " [5282.436 ]\n",
      " [5282.436 ]\n",
      " [5226.2485]\n",
      " [5198.341 ]\n",
      " [5282.436 ]\n",
      " [5453.973 ]\n",
      " [5396.298 ]\n",
      " [5367.6465]\n",
      " [5425.073 ]\n",
      " [5310.716 ]\n",
      " [5226.2485]\n",
      " [5254.2803]\n",
      " [5226.2485]\n",
      " [5512.144 ]\n",
      " [5512.144 ]\n",
      " [5453.973 ]\n",
      " [5512.144 ]\n",
      " [5512.144 ]\n",
      " [5541.4155]\n",
      " [5659.7417]\n",
      " [5600.3315]\n",
      " [5719.6475]\n",
      " [5719.6475]\n",
      " [5659.7417]\n",
      " [5570.811 ]\n",
      " [5689.633 ]\n",
      " [5749.786 ]\n",
      " [5600.3315]\n",
      " [5689.633 ]\n",
      " [5689.633 ]\n",
      " [5749.786 ]\n",
      " [5871.577 ]\n",
      " [5840.944 ]\n",
      " [5840.944 ]\n",
      " [5780.048 ]\n",
      " [5749.786 ]\n",
      " [5810.434 ]\n",
      " [5780.048 ]\n",
      " [5689.633 ]\n",
      " [5629.9746]\n",
      " [5482.9966]\n",
      " [5367.6465]\n",
      " [5541.4155]\n",
      " [5600.3315]\n",
      " [5689.633 ]\n",
      " [5749.786 ]\n",
      " [5871.577 ]\n",
      " [5780.048 ]\n",
      " [5840.944 ]\n",
      " [5871.577 ]\n",
      " [6089.453 ]\n",
      " [6057.959 ]\n",
      " [6216.6504]\n",
      " [6248.755 ]\n",
      " [6184.6685]\n",
      " [6443.9253]\n",
      " [6443.9253]\n",
      " [6378.385 ]\n",
      " [6216.6504]\n",
      " [6280.98  ]\n",
      " [6216.6504]\n",
      " [6345.796 ]\n",
      " [6216.6504]\n",
      " [6216.6504]\n",
      " [6121.0693]\n",
      " [6216.6504]\n",
      " [6313.3276]\n",
      " [6345.796 ]\n",
      " [6509.9478]\n",
      " [6576.4487]\n",
      " [6248.755 ]\n",
      " [6026.589 ]\n",
      " [6057.959 ]\n",
      " [6057.959 ]\n",
      " [6184.6685]\n",
      " [6184.6685]\n",
      " [6216.6504]\n",
      " [6378.385 ]\n",
      " [6443.9253]\n",
      " [6378.3853]]\n"
     ]
    }
   ],
   "source": [
    "val = scaler.inverse_transform(predict)\n",
    "print(val)"
   ]
  },
  {
   "cell_type": "code",
   "execution_count": 50,
   "metadata": {},
   "outputs": [
    {
     "name": "stdout",
     "output_type": "stream",
     "text": [
      "--------------------------------------------------  Metric  --------------------------------------------------\n",
      "RMSE :  0.025313765879263272\n",
      "MSE  :   0.0006407867429901535\n",
      "MAE  :   0.020245835562953948\n",
      "--------------------------  Mengecek Apakah Nilainya Overfit atau tidak  --------------------------\n"
     ]
    }
   ],
   "source": [
    "\n",
    "print(\"-\"*50, \" Metric \",\"-\"*50)\n",
    "print('RMSE : ',sqrt(metrics.mean_squared_error(y_test,predict)))\n",
    "print('MSE  :  ',metrics.mean_squared_error(y_test,predict))\n",
    "print('MAE  :  ',metrics.mean_absolute_error(y_test,predict))\n",
    "print(\"-\"*26, \" Mengecek Apakah Nilainya Overfit atau tidak \",\"-\"*26)\n"
   ]
  },
  {
   "cell_type": "code",
   "execution_count": 51,
   "metadata": {},
   "outputs": [
    {
     "name": "stdout",
     "output_type": "stream",
     "text": [
      "Successfully saved model\n"
     ]
    }
   ],
   "source": [
    "# Simpan model\n",
    "model.save(\"../home-page-stock-prediction/lstm_model2.keras\")\n",
    "print(\"Successfully saved model\")"
   ]
  }
 ],
 "metadata": {
  "kernelspec": {
   "display_name": "ml",
   "language": "python",
   "name": "python3"
  },
  "language_info": {
   "codemirror_mode": {
    "name": "ipython",
    "version": 3
   },
   "file_extension": ".py",
   "mimetype": "text/x-python",
   "name": "python",
   "nbconvert_exporter": "python",
   "pygments_lexer": "ipython3",
   "version": "3.9.18"
  }
 },
 "nbformat": 4,
 "nbformat_minor": 2
}
