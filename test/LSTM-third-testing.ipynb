{
 "cells": [
  {
   "cell_type": "code",
   "execution_count": 2,
   "metadata": {},
   "outputs": [],
   "source": [
    "import yfinance as yf\n",
    "from datetime import date\n",
    "import pandas as pd\n",
    "import numpy as np\n",
    "from sklearn import metrics\n",
    "from math import sqrt\n",
    "import matplotlib.pyplot as plt"
   ]
  },
  {
   "cell_type": "code",
   "execution_count": 3,
   "metadata": {},
   "outputs": [],
   "source": [
    "from sklearn.preprocessing import MinMaxScaler\n",
    "from tensorflow.keras.models import Sequential\n",
    "from tensorflow.keras.layers import Embedding, LSTM, Dense, Dropout\n",
    "from tensorflow.keras.callbacks import ModelCheckpoint\n",
    "from tensorflow.keras.callbacks import EarlyStopping\n",
    "from tensorflow.keras.optimizers import Adam"
   ]
  },
  {
   "cell_type": "markdown",
   "metadata": {},
   "source": [
    "### Data Input"
   ]
  },
  {
   "cell_type": "code",
   "execution_count": 4,
   "metadata": {},
   "outputs": [
    {
     "name": "stderr",
     "output_type": "stream",
     "text": [
      "c:\\Users\\kevin\\miniconda3\\envs\\tf\\lib\\site-packages\\yfinance\\utils.py:775: FutureWarning: The 'unit' keyword in TimedeltaIndex construction is deprecated and will be removed in a future version. Use pd.to_timedelta instead.\n",
      "  df.index += _pd.TimedeltaIndex(dst_error_hours, 'h')\n",
      "[*********************100%%**********************]  1 of 1 completed\n"
     ]
    }
   ],
   "source": [
    "# Input dari pengguna untuk simbol saham\n",
    "symbol = input(\"Input simbol saham (e.g 'BBRI.JK'): \")\n",
    "start_date = date(2023, 12, 1)\n",
    "end_date = date(2024, 2, 1)\n",
    "\n",
    "# Mengunduh data saham dari Yahoo Finance\n",
    "data = yf.download(symbol, start=start_date, end=end_date)"
   ]
  },
  {
   "cell_type": "code",
   "execution_count": 5,
   "metadata": {},
   "outputs": [
    {
     "data": {
      "text/html": [
       "<div>\n",
       "<style scoped>\n",
       "    .dataframe tbody tr th:only-of-type {\n",
       "        vertical-align: middle;\n",
       "    }\n",
       "\n",
       "    .dataframe tbody tr th {\n",
       "        vertical-align: top;\n",
       "    }\n",
       "\n",
       "    .dataframe thead th {\n",
       "        text-align: right;\n",
       "    }\n",
       "</style>\n",
       "<table border=\"1\" class=\"dataframe\">\n",
       "  <thead>\n",
       "    <tr style=\"text-align: right;\">\n",
       "      <th></th>\n",
       "      <th>Open</th>\n",
       "      <th>High</th>\n",
       "      <th>Low</th>\n",
       "      <th>Close</th>\n",
       "      <th>Adj Close</th>\n",
       "      <th>Volume</th>\n",
       "    </tr>\n",
       "    <tr>\n",
       "      <th>Date</th>\n",
       "      <th></th>\n",
       "      <th></th>\n",
       "      <th></th>\n",
       "      <th></th>\n",
       "      <th></th>\n",
       "      <th></th>\n",
       "    </tr>\n",
       "  </thead>\n",
       "  <tbody>\n",
       "    <tr>\n",
       "      <th>2023-12-01</th>\n",
       "      <td>5275.0</td>\n",
       "      <td>5375.0</td>\n",
       "      <td>5275.0</td>\n",
       "      <td>5350.0</td>\n",
       "      <td>5077.938965</td>\n",
       "      <td>99499500</td>\n",
       "    </tr>\n",
       "    <tr>\n",
       "      <th>2023-12-04</th>\n",
       "      <td>5450.0</td>\n",
       "      <td>5575.0</td>\n",
       "      <td>5450.0</td>\n",
       "      <td>5500.0</td>\n",
       "      <td>5220.311035</td>\n",
       "      <td>235595700</td>\n",
       "    </tr>\n",
       "    <tr>\n",
       "      <th>2023-12-05</th>\n",
       "      <td>5425.0</td>\n",
       "      <td>5500.0</td>\n",
       "      <td>5425.0</td>\n",
       "      <td>5450.0</td>\n",
       "      <td>5172.854004</td>\n",
       "      <td>114689900</td>\n",
       "    </tr>\n",
       "    <tr>\n",
       "      <th>2023-12-06</th>\n",
       "      <td>5425.0</td>\n",
       "      <td>5450.0</td>\n",
       "      <td>5400.0</td>\n",
       "      <td>5425.0</td>\n",
       "      <td>5149.125000</td>\n",
       "      <td>119716700</td>\n",
       "    </tr>\n",
       "    <tr>\n",
       "      <th>2023-12-07</th>\n",
       "      <td>5400.0</td>\n",
       "      <td>5475.0</td>\n",
       "      <td>5400.0</td>\n",
       "      <td>5475.0</td>\n",
       "      <td>5196.582520</td>\n",
       "      <td>102126600</td>\n",
       "    </tr>\n",
       "  </tbody>\n",
       "</table>\n",
       "</div>"
      ],
      "text/plain": [
       "              Open    High     Low   Close    Adj Close     Volume\n",
       "Date                                                              \n",
       "2023-12-01  5275.0  5375.0  5275.0  5350.0  5077.938965   99499500\n",
       "2023-12-04  5450.0  5575.0  5450.0  5500.0  5220.311035  235595700\n",
       "2023-12-05  5425.0  5500.0  5425.0  5450.0  5172.854004  114689900\n",
       "2023-12-06  5425.0  5450.0  5400.0  5425.0  5149.125000  119716700\n",
       "2023-12-07  5400.0  5475.0  5400.0  5475.0  5196.582520  102126600"
      ]
     },
     "execution_count": 5,
     "metadata": {},
     "output_type": "execute_result"
    }
   ],
   "source": [
    "data.head(5)"
   ]
  },
  {
   "cell_type": "code",
   "execution_count": 6,
   "metadata": {},
   "outputs": [
    {
     "name": "stdout",
     "output_type": "stream",
     "text": [
      "(41, 2)\n",
      "         Date   Close\n",
      "0  2023-12-01  5350.0\n",
      "1  2023-12-04  5500.0\n",
      "2  2023-12-05  5450.0\n",
      "3  2023-12-06  5425.0\n",
      "4  2023-12-07  5475.0\n",
      "5  2023-12-08  5375.0\n",
      "6  2023-12-11  5300.0\n",
      "7  2023-12-12  5325.0\n",
      "8  2023-12-13  5300.0\n",
      "9  2023-12-14  5550.0\n",
      "10 2023-12-15  5550.0\n",
      "11 2023-12-18  5500.0\n",
      "12 2023-12-19  5550.0\n",
      "13 2023-12-20  5550.0\n",
      "14 2023-12-21  5575.0\n",
      "15 2023-12-22  5675.0\n",
      "16 2023-12-27  5625.0\n",
      "17 2023-12-28  5725.0\n",
      "18 2023-12-29  5725.0\n",
      "19 2024-01-02  5675.0\n",
      "20 2024-01-03  5600.0\n",
      "21 2024-01-04  5700.0\n",
      "22 2024-01-05  5750.0\n",
      "23 2024-01-08  5625.0\n",
      "24 2024-01-09  5700.0\n",
      "25 2024-01-10  5700.0\n",
      "26 2024-01-11  5750.0\n",
      "27 2024-01-12  5850.0\n",
      "28 2024-01-15  5825.0\n",
      "29 2024-01-16  5825.0\n",
      "30 2024-01-17  5775.0\n",
      "31 2024-01-18  5750.0\n",
      "32 2024-01-19  5800.0\n",
      "33 2024-01-22  5775.0\n",
      "34 2024-01-23  5700.0\n",
      "35 2024-01-24  5650.0\n",
      "36 2024-01-25  5525.0\n",
      "37 2024-01-26  5425.0\n",
      "38 2024-01-29  5575.0\n",
      "39 2024-01-30  5625.0\n",
      "40 2024-01-31  5700.0\n"
     ]
    }
   ],
   "source": [
    "data.reset_index(inplace=True)\n",
    "\n",
    "# Input dari pengguna untuk fitur yang akan digunakan\n",
    "input_feat = input(\"Input feature yang akan digunakan (e.g: Open,High,Low,Close,Adj Close,Volume): \")\n",
    "\n",
    "# Memilih kolom tanggal dan fitur yang akan digunakan\n",
    "data = data[[\"Date\", input_feat]]\n",
    "print(data.shape)\n",
    "print(data)"
   ]
  },
  {
   "cell_type": "code",
   "execution_count": 7,
   "metadata": {},
   "outputs": [
    {
     "name": "stdout",
     "output_type": "stream",
     "text": [
      "[[0.09090909]\n",
      " [0.36363636]\n",
      " [0.27272727]\n",
      " [0.22727273]\n",
      " [0.31818182]\n",
      " [0.13636364]\n",
      " [0.        ]\n",
      " [0.04545455]\n",
      " [0.        ]\n",
      " [0.45454545]\n",
      " [0.45454545]\n",
      " [0.36363636]\n",
      " [0.45454545]\n",
      " [0.45454545]\n",
      " [0.5       ]\n",
      " [0.68181818]\n",
      " [0.59090909]\n",
      " [0.77272727]\n",
      " [0.77272727]\n",
      " [0.68181818]\n",
      " [0.54545455]\n",
      " [0.72727273]\n",
      " [0.81818182]\n",
      " [0.59090909]\n",
      " [0.72727273]\n",
      " [0.72727273]\n",
      " [0.81818182]\n",
      " [1.        ]\n",
      " [0.95454545]\n",
      " [0.95454545]\n",
      " [0.86363636]\n",
      " [0.81818182]\n",
      " [0.90909091]\n",
      " [0.86363636]\n",
      " [0.72727273]\n",
      " [0.63636364]\n",
      " [0.40909091]\n",
      " [0.22727273]\n",
      " [0.5       ]\n",
      " [0.59090909]\n",
      " [0.72727273]]\n",
      "['T', '__abs__', '__add__', '__and__', '__array__', '__array_finalize__', '__array_function__', '__array_interface__', '__array_prepare__', '__array_priority__', '__array_struct__', '__array_ufunc__', '__array_wrap__', '__bool__', '__class__', '__class_getitem__', '__complex__', '__contains__', '__copy__', '__deepcopy__', '__delattr__', '__delitem__', '__dir__', '__divmod__', '__dlpack__', '__dlpack_device__', '__doc__', '__eq__', '__float__', '__floordiv__', '__format__', '__ge__', '__getattribute__', '__getitem__', '__gt__', '__hash__', '__iadd__', '__iand__', '__ifloordiv__', '__ilshift__', '__imatmul__', '__imod__', '__imul__', '__index__', '__init__', '__init_subclass__', '__int__', '__invert__', '__ior__', '__ipow__', '__irshift__', '__isub__', '__iter__', '__itruediv__', '__ixor__', '__le__', '__len__', '__lshift__', '__lt__', '__matmul__', '__mod__', '__mul__', '__ne__', '__neg__', '__new__', '__or__', '__pos__', '__pow__', '__radd__', '__rand__', '__rdivmod__', '__reduce__', '__reduce_ex__', '__repr__', '__rfloordiv__', '__rlshift__', '__rmatmul__', '__rmod__', '__rmul__', '__ror__', '__rpow__', '__rrshift__', '__rshift__', '__rsub__', '__rtruediv__', '__rxor__', '__setattr__', '__setitem__', '__setstate__', '__sizeof__', '__str__', '__sub__', '__subclasshook__', '__truediv__', '__xor__', 'all', 'any', 'argmax', 'argmin', 'argpartition', 'argsort', 'astype', 'base', 'byteswap', 'choose', 'clip', 'compress', 'conj', 'conjugate', 'copy', 'ctypes', 'cumprod', 'cumsum', 'data', 'diagonal', 'dot', 'dtype', 'dump', 'dumps', 'fill', 'flags', 'flat', 'flatten', 'getfield', 'imag', 'item', 'itemset', 'itemsize', 'max', 'mean', 'min', 'nbytes', 'ndim', 'newbyteorder', 'nonzero', 'partition', 'prod', 'ptp', 'put', 'ravel', 'real', 'repeat', 'reshape', 'resize', 'round', 'searchsorted', 'setfield', 'setflags', 'shape', 'size', 'sort', 'squeeze', 'std', 'strides', 'sum', 'swapaxes', 'take', 'tobytes', 'tofile', 'tolist', 'tostring', 'trace', 'transpose', 'var', 'view']\n"
     ]
    }
   ],
   "source": [
    "# Melakukan penskalaan fitur\n",
    "scaler = MinMaxScaler(feature_range=(0, 1))\n",
    "scaled_data = scaler.fit_transform(data[input_feat].values.reshape(-1, 1))\n",
    "\n",
    "print(scaled_data)\n",
    "print(dir(scaled_data))"
   ]
  },
  {
   "cell_type": "code",
   "execution_count": 8,
   "metadata": {},
   "outputs": [],
   "source": [
    "# Pembagian data menjadi data latih dan data uji\n",
    "train_size = int(len(scaled_data) * 0.8)\n",
    "train_data, test_data = scaled_data[:train_size, :], scaled_data[train_size:, :]\n",
    "\n",
    "# print(train_data)\n",
    "# print(train_data.shape)\n",
    "# print(dir(train_data))"
   ]
  },
  {
   "cell_type": "code",
   "execution_count": 9,
   "metadata": {},
   "outputs": [],
   "source": [
    "# Persiapan data untuk model LSTM\n",
    "def create_sequences(data, sequence_length):\n",
    "    sequences = []\n",
    "    target = []\n",
    "    for i in range(len(data) - sequence_length):\n",
    "        sequences.append(data[i:i+sequence_length])\n",
    "        target.append(data[i+sequence_length])\n",
    "    return np.array(sequences), np.array(target)\n",
    "\n",
    "sequence_length = 10  # Anda dapat mengubah panjangnya sesuai kebutuhan\n",
    "X_train, y_train = create_sequences(train_data, sequence_length)\n",
    "X_test, y_test = create_sequences(test_data, sequence_length)\n",
    "\n",
    "input_dim_size = 10000  # Contoh: Anda membatasi kosakata hingga 10.000 kata paling umum.\n",
    "embedding_dim_size = 100  # Contoh: Gunakan embedding dengan dimensi 100.\n"
   ]
  },
  {
   "cell_type": "code",
   "execution_count": 10,
   "metadata": {},
   "outputs": [],
   "source": [
    "# Membangun model LSTM\n",
    "# model = Sequential()\n",
    "# model.add(Embedding(input_dim=input_dim_size, output_dim=embedding_dim_size, input_length=sequence_length))\n",
    "# model.add(LSTM(units=128, return_sequences=True))\n",
    "# model.add(Dropout(0.2))\n",
    "# model.add(LSTM(units=64))\n",
    "# model.add(Dense(32, activation='relu'))\n",
    "# model.add(Dense(32, activation='relu'))\n",
    "# model.add(Dropout(0.2))\n",
    "# model.add(Dense(units=1, activation='relu'))\n",
    "# model.summary()\n",
    "\n",
    "# Membangun model LSTM\n",
    "model = Sequential()\n",
    "model.add(Embedding(input_dim=input_dim_size, output_dim=embedding_dim_size, input_length=sequence_length))\n",
    "model.add(LSTM(units=128, return_sequences=True))\n",
    "model.add(Dropout(0.2))\n",
    "model.add(LSTM(units=64))\n",
    "model.add(Dropout(0.2))\n",
    "model.add(Dense(units=1, activation='relu'))\n",
    "model.summary()"
   ]
  },
  {
   "cell_type": "code",
   "execution_count": 11,
   "metadata": {},
   "outputs": [
    {
     "ename": "NameError",
     "evalue": "name 'model' is not defined",
     "output_type": "error",
     "traceback": [
      "\u001b[1;31m---------------------------------------------------------------------------\u001b[0m",
      "\u001b[1;31mNameError\u001b[0m                                 Traceback (most recent call last)",
      "Cell \u001b[1;32mIn[11], line 7\u001b[0m\n\u001b[0;32m      3\u001b[0m early_stopping \u001b[38;5;241m=\u001b[39m EarlyStopping(monitor\u001b[38;5;241m=\u001b[39m\u001b[38;5;124m'\u001b[39m\u001b[38;5;124mval_loss\u001b[39m\u001b[38;5;124m'\u001b[39m, patience\u001b[38;5;241m=\u001b[39m\u001b[38;5;241m10\u001b[39m, verbose\u001b[38;5;241m=\u001b[39m\u001b[38;5;241m1\u001b[39m, restore_best_weights\u001b[38;5;241m=\u001b[39m\u001b[38;5;28;01mTrue\u001b[39;00m)\n\u001b[0;32m      6\u001b[0m optimizer \u001b[38;5;241m=\u001b[39m Adam(learning_rate\u001b[38;5;241m=\u001b[39m\u001b[38;5;241m0.001\u001b[39m)\n\u001b[1;32m----> 7\u001b[0m \u001b[43mmodel\u001b[49m\u001b[38;5;241m.\u001b[39mcompile(loss\u001b[38;5;241m=\u001b[39m\u001b[38;5;124m'\u001b[39m\u001b[38;5;124mmean_squared_error\u001b[39m\u001b[38;5;124m'\u001b[39m, optimizer\u001b[38;5;241m=\u001b[39moptimizer, metrics\u001b[38;5;241m=\u001b[39m[\u001b[38;5;124m'\u001b[39m\u001b[38;5;124mmean_absolute_error\u001b[39m\u001b[38;5;124m'\u001b[39m])\n\u001b[0;32m      8\u001b[0m model_final \u001b[38;5;241m=\u001b[39m model\u001b[38;5;241m.\u001b[39mfit(X_train, y_train, epochs\u001b[38;5;241m=\u001b[39m\u001b[38;5;241m100\u001b[39m, batch_size\u001b[38;5;241m=\u001b[39m\u001b[38;5;241m64\u001b[39m, verbose\u001b[38;5;241m=\u001b[39m\u001b[38;5;241m2\u001b[39m, callbacks\u001b[38;5;241m=\u001b[39m[cp3, early_stopping], validation_data\u001b[38;5;241m=\u001b[39m(X_test, y_test))\n",
      "\u001b[1;31mNameError\u001b[0m: name 'model' is not defined"
     ]
    }
   ],
   "source": [
    "# Kompilasi dan pelatihan model\n",
    "cp3 = ModelCheckpoint('../model/model3/', save_best_only=True)\n",
    "early_stopping = EarlyStopping(monitor='val_loss', patience=10, verbose=1, restore_best_weights=True)\n",
    "\n",
    "\n",
    "optimizer = Adam(learning_rate=0.001)\n",
    "model.compile(loss='mean_squared_error', optimizer=optimizer, metrics=['mean_absolute_error'])\n",
    "model_final = model.fit(X_train, y_train, epochs=100, batch_size=64, verbose=2, callbacks=[cp3, early_stopping], validation_data=(X_test, y_test))"
   ]
  },
  {
   "cell_type": "code",
   "execution_count": null,
   "metadata": {},
   "outputs": [
    {
     "ename": "KeyError",
     "evalue": "'val_loss'",
     "output_type": "error",
     "traceback": [
      "\u001b[1;31m---------------------------------------------------------------------------\u001b[0m",
      "\u001b[1;31mKeyError\u001b[0m                                  Traceback (most recent call last)",
      "Cell \u001b[1;32mIn[31], line 3\u001b[0m\n\u001b[0;32m      1\u001b[0m \u001b[38;5;66;03m# Plot loss\u001b[39;00m\n\u001b[0;32m      2\u001b[0m plt\u001b[38;5;241m.\u001b[39mplot(history\u001b[38;5;241m.\u001b[39mhistory[\u001b[38;5;124m'\u001b[39m\u001b[38;5;124mloss\u001b[39m\u001b[38;5;124m'\u001b[39m], label\u001b[38;5;241m=\u001b[39m\u001b[38;5;124m'\u001b[39m\u001b[38;5;124mTraining Loss\u001b[39m\u001b[38;5;124m'\u001b[39m)\n\u001b[1;32m----> 3\u001b[0m plt\u001b[38;5;241m.\u001b[39mplot(\u001b[43mhistory\u001b[49m\u001b[38;5;241;43m.\u001b[39;49m\u001b[43mhistory\u001b[49m\u001b[43m[\u001b[49m\u001b[38;5;124;43m'\u001b[39;49m\u001b[38;5;124;43mval_loss\u001b[39;49m\u001b[38;5;124;43m'\u001b[39;49m\u001b[43m]\u001b[49m, label\u001b[38;5;241m=\u001b[39m\u001b[38;5;124m'\u001b[39m\u001b[38;5;124mValidation Loss\u001b[39m\u001b[38;5;124m'\u001b[39m)\n\u001b[0;32m      4\u001b[0m plt\u001b[38;5;241m.\u001b[39mxlabel(\u001b[38;5;124m'\u001b[39m\u001b[38;5;124mEpoch\u001b[39m\u001b[38;5;124m'\u001b[39m)\n\u001b[0;32m      5\u001b[0m plt\u001b[38;5;241m.\u001b[39mylabel(\u001b[38;5;124m'\u001b[39m\u001b[38;5;124mLoss\u001b[39m\u001b[38;5;124m'\u001b[39m)\n",
      "\u001b[1;31mKeyError\u001b[0m: 'val_loss'"
     ]
    },
    {
     "data": {
      "image/png": "[encoded data removed]",
      "text/plain": [
       "<Figure size 640x480 with 1 Axes>"
      ]
     },
     "metadata": {},
     "output_type": "display_data"
    }
   ],
   "source": [
    "# Plot loss\n",
    "plt.plot(history.history['loss'], label='Training Loss')\n",
    "plt.plot(history.history['val_loss'], label='Validation Loss')\n",
    "plt.xlabel('Epoch')\n",
    "plt.ylabel('Loss')\n",
    "plt.legend()\n",
    "plt.show()"
   ]
  },
  {
   "cell_type": "code",
   "execution_count": null,
   "metadata": {},
   "outputs": [
    {
     "ename": "KeyError",
     "evalue": "'accuracy'",
     "output_type": "error",
     "traceback": [
      "\u001b[1;31m---------------------------------------------------------------------------\u001b[0m",
      "\u001b[1;31mKeyError\u001b[0m                                  Traceback (most recent call last)",
      "Cell \u001b[1;32mIn[10], line 3\u001b[0m\n\u001b[0;32m      1\u001b[0m \u001b[38;5;66;03m# Plot metrik lainnya (jika ada)\u001b[39;00m\n\u001b[0;32m      2\u001b[0m \u001b[38;5;66;03m# Misalnya, jika Anda memiliki metrik akurasi:\u001b[39;00m\n\u001b[1;32m----> 3\u001b[0m plt\u001b[38;5;241m.\u001b[39mplot(\u001b[43mhistory\u001b[49m\u001b[38;5;241;43m.\u001b[39;49m\u001b[43mhistory\u001b[49m\u001b[43m[\u001b[49m\u001b[38;5;124;43m'\u001b[39;49m\u001b[38;5;124;43maccuracy\u001b[39;49m\u001b[38;5;124;43m'\u001b[39;49m\u001b[43m]\u001b[49m, label\u001b[38;5;241m=\u001b[39m\u001b[38;5;124m'\u001b[39m\u001b[38;5;124mTraining Accuracy\u001b[39m\u001b[38;5;124m'\u001b[39m)\n\u001b[0;32m      4\u001b[0m plt\u001b[38;5;241m.\u001b[39mplot(history\u001b[38;5;241m.\u001b[39mhistory[\u001b[38;5;124m'\u001b[39m\u001b[38;5;124mval_accuracy\u001b[39m\u001b[38;5;124m'\u001b[39m], label\u001b[38;5;241m=\u001b[39m\u001b[38;5;124m'\u001b[39m\u001b[38;5;124mValidation Accuracy\u001b[39m\u001b[38;5;124m'\u001b[39m)\n\u001b[0;32m      5\u001b[0m plt\u001b[38;5;241m.\u001b[39mxlabel(\u001b[38;5;124m'\u001b[39m\u001b[38;5;124mEpoch\u001b[39m\u001b[38;5;124m'\u001b[39m)\n",
      "\u001b[1;31mKeyError\u001b[0m: 'accuracy'"
     ]
    }
   ],
   "source": [
    "# Plot metrik lainnya (jika ada)\n",
    "# Misalnya, jika Anda memiliki metrik akurasi:\n",
    "plt.plot(history.history['accuracy'], label='Training Accuracy')\n",
    "plt.plot(history.history['val_accuracy'], label='Validation Accuracy')\n",
    "plt.xlabel('Epoch')\n",
    "plt.ylabel('Accuracy')\n",
    "plt.legend()\n",
    "plt.show()"
   ]
  },
  {
   "cell_type": "code",
   "execution_count": null,
   "metadata": {},
   "outputs": [
    {
     "ename": "NameError",
     "evalue": "name 'loss' is not defined",
     "output_type": "error",
     "traceback": [
      "\u001b[1;31m---------------------------------------------------------------------------\u001b[0m",
      "\u001b[1;31mNameError\u001b[0m                                 Traceback (most recent call last)",
      "Cell \u001b[1;32mIn[13], line 5\u001b[0m\n\u001b[0;32m      1\u001b[0m \u001b[38;5;66;03m# Evaluasi model pada data uji\u001b[39;00m\n\u001b[0;32m      2\u001b[0m \u001b[38;5;66;03m# loss = model.evaluate(X_test, y_test)\u001b[39;00m\n\u001b[0;32m      3\u001b[0m \u001b[38;5;66;03m# print(\"Loss di data uji:\", loss)\u001b[39;00m\n\u001b[1;32m----> 5\u001b[0m \u001b[38;5;28mprint\u001b[39m(\u001b[38;5;124m\"\u001b[39m\u001b[38;5;124mLoss di data uji:\u001b[39m\u001b[38;5;124m\"\u001b[39m, \u001b[43mloss\u001b[49m)\n\u001b[0;32m      6\u001b[0m predict \u001b[38;5;241m=\u001b[39m model\u001b[38;5;241m.\u001b[39mpredict(X_test)\n\u001b[0;32m      7\u001b[0m \u001b[38;5;66;03m# print(predict)\u001b[39;00m\n",
      "\u001b[1;31mNameError\u001b[0m: name 'loss' is not defined"
     ]
    }
   ],
   "source": [
    "# Evaluasi model pada data uji\n",
    "loss = model.evaluate(X_test, y_test)\n",
    "print(\"Loss di data uji:\", loss)\n",
    "\n",
    "print(\"Loss di data uji:\", loss)\n",
    "predict = model.predict(X_test)\n",
    "# print(predict)"
   ]
  },
  {
   "cell_type": "code",
   "execution_count": null,
   "metadata": {},
   "outputs": [
    {
     "name": "stdout",
     "output_type": "stream",
     "text": [
      "--------------------------------------------------  Metric  --------------------------------------------------\n"
     ]
    },
    {
     "ename": "NameError",
     "evalue": "name 'predict' is not defined",
     "output_type": "error",
     "traceback": [
      "\u001b[1;31m---------------------------------------------------------------------------\u001b[0m",
      "\u001b[1;31mNameError\u001b[0m                                 Traceback (most recent call last)",
      "Cell \u001b[1;32mIn[12], line 2\u001b[0m\n\u001b[0;32m      1\u001b[0m \u001b[38;5;28mprint\u001b[39m(\u001b[38;5;124m\"\u001b[39m\u001b[38;5;124m-\u001b[39m\u001b[38;5;124m\"\u001b[39m\u001b[38;5;241m*\u001b[39m\u001b[38;5;241m50\u001b[39m, \u001b[38;5;124m\"\u001b[39m\u001b[38;5;124m Metric \u001b[39m\u001b[38;5;124m\"\u001b[39m,\u001b[38;5;124m\"\u001b[39m\u001b[38;5;124m-\u001b[39m\u001b[38;5;124m\"\u001b[39m\u001b[38;5;241m*\u001b[39m\u001b[38;5;241m50\u001b[39m)\n\u001b[1;32m----> 2\u001b[0m \u001b[38;5;28mprint\u001b[39m(\u001b[38;5;124m'\u001b[39m\u001b[38;5;124mRMSE : \u001b[39m\u001b[38;5;124m'\u001b[39m,sqrt(metrics\u001b[38;5;241m.\u001b[39mmean_squared_error(y_test,\u001b[43mpredict\u001b[49m)))\n\u001b[0;32m      3\u001b[0m \u001b[38;5;28mprint\u001b[39m(\u001b[38;5;124m'\u001b[39m\u001b[38;5;124mMSE  :  \u001b[39m\u001b[38;5;124m'\u001b[39m,metrics\u001b[38;5;241m.\u001b[39mmean_squared_error(y_test,predict))\n\u001b[0;32m      4\u001b[0m \u001b[38;5;28mprint\u001b[39m(\u001b[38;5;124m'\u001b[39m\u001b[38;5;124mMAE  :  \u001b[39m\u001b[38;5;124m'\u001b[39m,metrics\u001b[38;5;241m.\u001b[39mmean_absolute_error(y_test,predict))\n",
      "\u001b[1;31mNameError\u001b[0m: name 'predict' is not defined"
     ]
    }
   ],
   "source": [
    "print(\"-\"*50, \" Metric \",\"-\"*50)\n",
    "print('RMSE : ',sqrt(metrics.mean_squared_error(y_test,predict)))\n",
    "print('MSE  :  ',metrics.mean_squared_error(y_test,predict))\n",
    "print('MAE  :  ',metrics.mean_absolute_error(y_test,predict))\n",
    "print(\"-\"*26, \" Mengecek Apakah Nilainya Overfit atau tidak \",\"-\"*26)\n"
   ]
  },
  {
   "cell_type": "code",
   "execution_count": null,
   "metadata": {},
   "outputs": [],
   "source": [
    "# Simpan model\n",
    "model.save(\"../home-page-stock-prediction/lstm_model3.keras\")\n",
    "print(\"Sucess saving model!)"
   ]
  }
 ],
 "metadata": {
  "kernelspec": {
   "display_name": "ml",
   "language": "python",
   "name": "python3"
  },
  "language_info": {
   "codemirror_mode": {
    "name": "ipython",
    "version": 3
   },
   "file_extension": ".py",
   "mimetype": "text/x-python",
   "name": "python",
   "nbconvert_exporter": "python",
   "pygments_lexer": "ipython3",
   "version": "3.9.18"
  }
 },
 "nbformat": 4,
 "nbformat_minor": 2
}
