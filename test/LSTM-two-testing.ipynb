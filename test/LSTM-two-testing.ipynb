{
 "cells": [
  {
   "cell_type": "markdown",
   "metadata": {},
   "source": [
    "# Implementation LSTM model for Forecasting\n",
    "### 'My Stock Forecast App'"
   ]
  },
  {
   "cell_type": "code",
   "execution_count": 61,
   "metadata": {},
   "outputs": [],
   "source": [
    "import yfinance as yf\n",
    "from datetime import date\n",
    "import pandas as pd\n",
    "import numpy as np\n",
    "from sklearn import metrics\n",
    "from math import sqrt\n",
    "import seaborn as sns\n",
    "import matplotlib.pyplot as plt"
   ]
  },
  {
   "cell_type": "code",
   "execution_count": 62,
   "metadata": {},
   "outputs": [],
   "source": [
    "from sklearn.preprocessing import MinMaxScaler\n",
    "import tensorflow as tf\n",
    "from tensorflow.keras.models import Sequential\n",
    "from tensorflow.keras.layers import Embedding, LSTM, Dense, Dropout\n",
    "from tensorflow.keras.callbacks import ModelCheckpoint\n",
    "from tensorflow.keras.callbacks import EarlyStopping\n",
    "from tensorflow.keras.optimizers import Adam"
   ]
  },
  {
   "cell_type": "markdown",
   "metadata": {},
   "source": [
    "## DATA INGESTION"
   ]
  },
  {
   "cell_type": "code",
   "execution_count": 63,
   "metadata": {},
   "outputs": [
    {
     "name": "stderr",
     "output_type": "stream",
     "text": [
      "c:\\Users\\kevin\\miniconda3\\envs\\tf\\lib\\site-packages\\yfinance\\utils.py:775: FutureWarning: The 'unit' keyword in TimedeltaIndex construction is deprecated and will be removed in a future version. Use pd.to_timedelta instead.\n",
      "  df.index += _pd.TimedeltaIndex(dst_error_hours, 'h')\n",
      "[*********************100%%**********************]  1 of 1 completed\n"
     ]
    }
   ],
   "source": [
    "# Input dari pengguna untuk simbol saham\n",
    "symbol = input(\"Input simbol saham (e.g 'BBRI.JK'): \")\n",
    "start_date = date(2019, 1, 1)\n",
    "end_date = date(2024, 2, 1)\n",
    "\n",
    "# Mengunduh data saham dari Yahoo Finance\n",
    "data = yf.download(symbol, start=start_date, end=end_date)"
   ]
  },
  {
   "cell_type": "code",
   "execution_count": 64,
   "metadata": {},
   "outputs": [
    {
     "data": {
      "text/html": [
       "<div>\n",
       "<style scoped>\n",
       "    .dataframe tbody tr th:only-of-type {\n",
       "        vertical-align: middle;\n",
       "    }\n",
       "\n",
       "    .dataframe tbody tr th {\n",
       "        vertical-align: top;\n",
       "    }\n",
       "\n",
       "    .dataframe thead th {\n",
       "        text-align: right;\n",
       "    }\n",
       "</style>\n",
       "<table border=\"1\" class=\"dataframe\">\n",
       "  <thead>\n",
       "    <tr style=\"text-align: right;\">\n",
       "      <th></th>\n",
       "      <th>Open</th>\n",
       "      <th>High</th>\n",
       "      <th>Low</th>\n",
       "      <th>Close</th>\n",
       "      <th>Adj Close</th>\n",
       "      <th>Volume</th>\n",
       "    </tr>\n",
       "    <tr>\n",
       "      <th>Date</th>\n",
       "      <th></th>\n",
       "      <th></th>\n",
       "      <th></th>\n",
       "      <th></th>\n",
       "      <th></th>\n",
       "      <th></th>\n",
       "    </tr>\n",
       "  </thead>\n",
       "  <tbody>\n",
       "    <tr>\n",
       "      <th>2019-01-01</th>\n",
       "      <td>3327.215332</td>\n",
       "      <td>3327.215332</td>\n",
       "      <td>3327.215332</td>\n",
       "      <td>3327.215332</td>\n",
       "      <td>2594.003906</td>\n",
       "      <td>0</td>\n",
       "    </tr>\n",
       "    <tr>\n",
       "      <th>2019-01-02</th>\n",
       "      <td>3281.761475</td>\n",
       "      <td>3309.033691</td>\n",
       "      <td>3263.580078</td>\n",
       "      <td>3281.761475</td>\n",
       "      <td>2558.566650</td>\n",
       "      <td>82441033</td>\n",
       "    </tr>\n",
       "    <tr>\n",
       "      <th>2019-01-03</th>\n",
       "      <td>3254.489258</td>\n",
       "      <td>3309.033691</td>\n",
       "      <td>3254.489258</td>\n",
       "      <td>3290.852295</td>\n",
       "      <td>2565.654297</td>\n",
       "      <td>102805905</td>\n",
       "    </tr>\n",
       "    <tr>\n",
       "      <th>2019-01-04</th>\n",
       "      <td>3290.852295</td>\n",
       "      <td>3327.215332</td>\n",
       "      <td>3281.761475</td>\n",
       "      <td>3327.215332</td>\n",
       "      <td>2594.003906</td>\n",
       "      <td>125907734</td>\n",
       "    </tr>\n",
       "    <tr>\n",
       "      <th>2019-01-07</th>\n",
       "      <td>3363.578369</td>\n",
       "      <td>3372.668945</td>\n",
       "      <td>3327.215332</td>\n",
       "      <td>3327.215332</td>\n",
       "      <td>2594.003906</td>\n",
       "      <td>82106628</td>\n",
       "    </tr>\n",
       "  </tbody>\n",
       "</table>\n",
       "</div>"
      ],
      "text/plain": [
       "                   Open         High          Low        Close    Adj Close  \\\n",
       "Date                                                                          \n",
       "2019-01-01  3327.215332  3327.215332  3327.215332  3327.215332  2594.003906   \n",
       "2019-01-02  3281.761475  3309.033691  3263.580078  3281.761475  2558.566650   \n",
       "2019-01-03  3254.489258  3309.033691  3254.489258  3290.852295  2565.654297   \n",
       "2019-01-04  3290.852295  3327.215332  3281.761475  3327.215332  2594.003906   \n",
       "2019-01-07  3363.578369  3372.668945  3327.215332  3327.215332  2594.003906   \n",
       "\n",
       "               Volume  \n",
       "Date                   \n",
       "2019-01-01          0  \n",
       "2019-01-02   82441033  \n",
       "2019-01-03  102805905  \n",
       "2019-01-04  125907734  \n",
       "2019-01-07   82106628  "
      ]
     },
     "execution_count": 64,
     "metadata": {},
     "output_type": "execute_result"
    }
   ],
   "source": [
    "data.head(5)"
   ]
  },
  {
   "cell_type": "code",
   "execution_count": 79,
   "metadata": {},
   "outputs": [
    {
     "name": "stdout",
     "output_type": "stream",
     "text": [
      "(1254, 2)\n"
     ]
    },
    {
     "data": {
      "text/html": [
       "<div>\n",
       "<style scoped>\n",
       "    .dataframe tbody tr th:only-of-type {\n",
       "        vertical-align: middle;\n",
       "    }\n",
       "\n",
       "    .dataframe tbody tr th {\n",
       "        vertical-align: top;\n",
       "    }\n",
       "\n",
       "    .dataframe thead th {\n",
       "        text-align: right;\n",
       "    }\n",
       "</style>\n",
       "<table border=\"1\" class=\"dataframe\">\n",
       "  <thead>\n",
       "    <tr style=\"text-align: right;\">\n",
       "      <th></th>\n",
       "      <th>Date</th>\n",
       "      <th>Close</th>\n",
       "    </tr>\n",
       "  </thead>\n",
       "  <tbody>\n",
       "    <tr>\n",
       "      <th>0</th>\n",
       "      <td>2019-01-01</td>\n",
       "      <td>3327.215332</td>\n",
       "    </tr>\n",
       "    <tr>\n",
       "      <th>1</th>\n",
       "      <td>2019-01-02</td>\n",
       "      <td>3281.761475</td>\n",
       "    </tr>\n",
       "    <tr>\n",
       "      <th>2</th>\n",
       "      <td>2019-01-03</td>\n",
       "      <td>3290.852295</td>\n",
       "    </tr>\n",
       "    <tr>\n",
       "      <th>3</th>\n",
       "      <td>2019-01-04</td>\n",
       "      <td>3327.215332</td>\n",
       "    </tr>\n",
       "    <tr>\n",
       "      <th>4</th>\n",
       "      <td>2019-01-07</td>\n",
       "      <td>3327.215332</td>\n",
       "    </tr>\n",
       "    <tr>\n",
       "      <th>...</th>\n",
       "      <td>...</td>\n",
       "      <td>...</td>\n",
       "    </tr>\n",
       "    <tr>\n",
       "      <th>1249</th>\n",
       "      <td>2024-01-25</td>\n",
       "      <td>5525.000000</td>\n",
       "    </tr>\n",
       "    <tr>\n",
       "      <th>1250</th>\n",
       "      <td>2024-01-26</td>\n",
       "      <td>5425.000000</td>\n",
       "    </tr>\n",
       "    <tr>\n",
       "      <th>1251</th>\n",
       "      <td>2024-01-29</td>\n",
       "      <td>5575.000000</td>\n",
       "    </tr>\n",
       "    <tr>\n",
       "      <th>1252</th>\n",
       "      <td>2024-01-30</td>\n",
       "      <td>5625.000000</td>\n",
       "    </tr>\n",
       "    <tr>\n",
       "      <th>1253</th>\n",
       "      <td>2024-01-31</td>\n",
       "      <td>5700.000000</td>\n",
       "    </tr>\n",
       "  </tbody>\n",
       "</table>\n",
       "<p>1254 rows × 2 columns</p>\n",
       "</div>"
      ],
      "text/plain": [
       "           Date        Close\n",
       "0    2019-01-01  3327.215332\n",
       "1    2019-01-02  3281.761475\n",
       "2    2019-01-03  3290.852295\n",
       "3    2019-01-04  3327.215332\n",
       "4    2019-01-07  3327.215332\n",
       "...         ...          ...\n",
       "1249 2024-01-25  5525.000000\n",
       "1250 2024-01-26  5425.000000\n",
       "1251 2024-01-29  5575.000000\n",
       "1252 2024-01-30  5625.000000\n",
       "1253 2024-01-31  5700.000000\n",
       "\n",
       "[1254 rows x 2 columns]"
      ]
     },
     "execution_count": 79,
     "metadata": {},
     "output_type": "execute_result"
    }
   ],
   "source": [
    "data.reset_index(inplace=True)\n",
    "\n",
    "# Input dari pengguna untuk fitur yang akan digunakan\n",
    "input_feat = input(\"Input feature yang akan digunakan (e.g: Open, High, Low, Close, Adj Close, Volume): \")\n",
    "\n",
    "# Memilih kolom tanggal dan fitur yang akan digunakan\n",
    "data = data[[\"Date\", input_feat]]\n",
    "print(data.shape)\n",
    "data"
   ]
  },
  {
   "cell_type": "markdown",
   "metadata": {},
   "source": [
    "## DATA PROCESSING"
   ]
  },
  {
   "cell_type": "code",
   "execution_count": 66,
   "metadata": {},
   "outputs": [],
   "source": [
    "# Melakukan scaling feature\n",
    "scaler = MinMaxScaler(feature_range=(0, 1))\n",
    "scaled_data = scaler.fit_transform(data[input_feat].values.reshape(-1, 1))\n",
    "\n",
    "# print(scaled_data)\n",
    "# print(dir(scaled_data))"
   ]
  },
  {
   "cell_type": "code",
   "execution_count": 67,
   "metadata": {},
   "outputs": [],
   "source": [
    "# Pembagian data menjadi data training dan data testing\n",
    "train_size = int(len(scaled_data) * 0.8)\n",
    "train_data, test_data = scaled_data[:train_size, :], scaled_data[train_size:, :]\n",
    "\n",
    "# print(train_data)\n",
    "# print(train_data.shape)\n",
    "# print(dir(train_data))"
   ]
  },
  {
   "cell_type": "code",
   "execution_count": 68,
   "metadata": {},
   "outputs": [],
   "source": [
    "# Persiapan data untuk model LSTM\n",
    "def create_sequences(data, sequence_length):\n",
    "    sequences = []\n",
    "    target = []\n",
    "    for i in range(len(data) - sequence_length):\n",
    "        sequences.append(data[i:i+sequence_length])\n",
    "        target.append(data[i+sequence_length])\n",
    "    return np.array(sequences), np.array(target)"
   ]
  },
  {
   "cell_type": "code",
   "execution_count": 69,
   "metadata": {},
   "outputs": [],
   "source": [
    "tf.random.set_seed(7)"
   ]
  },
  {
   "cell_type": "code",
   "execution_count": 70,
   "metadata": {},
   "outputs": [],
   "source": [
    "sequence_length = 10 \n",
    "X_train, y_train = create_sequences(train_data, sequence_length)\n",
    "X_test, y_test = create_sequences(test_data, sequence_length)\n",
    "\n",
    "input_dim_size = 10000\n",
    "embedding_dim_size = 100 \n"
   ]
  },
  {
   "cell_type": "markdown",
   "metadata": {},
   "source": [
    "# Modelling"
   ]
  },
  {
   "cell_type": "code",
   "execution_count": 71,
   "metadata": {},
   "outputs": [
    {
     "name": "stdout",
     "output_type": "stream",
     "text": [
      "Model: \"sequential_3\"\n",
      "_________________________________________________________________\n",
      " Layer (type)                Output Shape              Param #   \n",
      "=================================================================\n",
      " embedding_2 (Embedding)     (None, 10, 100)           1000000   \n",
      "                                                                 \n",
      " lstm_6 (LSTM)               (None, 10, 128)           117248    \n",
      "                                                                 \n",
      " dropout_6 (Dropout)         (None, 10, 128)           0         \n",
      "                                                                 \n",
      " lstm_7 (LSTM)               (None, 64)                49408     \n",
      "                                                                 \n",
      " dense_9 (Dense)             (None, 32)                2080      \n",
      "                                                                 \n",
      " dense_10 (Dense)            (None, 32)                1056      \n",
      "                                                                 \n",
      " dropout_7 (Dropout)         (None, 32)                0         \n",
      "                                                                 \n",
      " dense_11 (Dense)            (None, 1)                 33        \n",
      "                                                                 \n",
      "=================================================================\n",
      "Total params: 1,169,825\n",
      "Trainable params: 1,169,825\n",
      "Non-trainable params: 0\n",
      "_________________________________________________________________\n"
     ]
    }
   ],
   "source": [
    "# Membangun model LSTM\n",
    "model = Sequential()\n",
    "model.add(Embedding(input_dim=input_dim_size, output_dim=embedding_dim_size, input_length=sequence_length))\n",
    "model.add(LSTM(units=128, return_sequences=True))\n",
    "model.add(Dropout(0.2))\n",
    "model.add(LSTM(units=64))\n",
    "model.add(Dense(32, activation='relu'))\n",
    "model.add(Dense(32, activation='relu'))\n",
    "model.add(Dropout(0.2))\n",
    "model.add(Dense(units=1, activation='relu'))\n",
    "model.summary()\n",
    "\n"
   ]
  },
  {
   "cell_type": "code",
   "execution_count": 72,
   "metadata": {},
   "outputs": [
    {
     "name": "stdout",
     "output_type": "stream",
     "text": [
      "Epoch 1/100\n"
     ]
    },
    {
     "name": "stderr",
     "output_type": "stream",
     "text": [
      "WARNING:absl:Found untraced functions such as lstm_cell_6_layer_call_fn, lstm_cell_6_layer_call_and_return_conditional_losses, lstm_cell_7_layer_call_fn, lstm_cell_7_layer_call_and_return_conditional_losses while saving (showing 4 of 4). These functions will not be directly callable after loading.\n"
     ]
    },
    {
     "name": "stdout",
     "output_type": "stream",
     "text": [
      "INFO:tensorflow:Assets written to: ../model/model2\\assets\n"
     ]
    },
    {
     "name": "stderr",
     "output_type": "stream",
     "text": [
      "INFO:tensorflow:Assets written to: ../model/model2\\assets\n"
     ]
    },
    {
     "name": "stdout",
     "output_type": "stream",
     "text": [
      "16/16 - 16s - loss: 0.0906 - mean_absolute_error: 0.2423 - val_loss: 0.2291 - val_mean_absolute_error: 0.4710 - 16s/epoch - 969ms/step\n",
      "Epoch 2/100\n"
     ]
    },
    {
     "name": "stderr",
     "output_type": "stream",
     "text": [
      "WARNING:absl:Found untraced functions such as lstm_cell_6_layer_call_fn, lstm_cell_6_layer_call_and_return_conditional_losses, lstm_cell_7_layer_call_fn, lstm_cell_7_layer_call_and_return_conditional_losses while saving (showing 4 of 4). These functions will not be directly callable after loading.\n"
     ]
    },
    {
     "name": "stdout",
     "output_type": "stream",
     "text": [
      "INFO:tensorflow:Assets written to: ../model/model2\\assets\n"
     ]
    },
    {
     "name": "stderr",
     "output_type": "stream",
     "text": [
      "INFO:tensorflow:Assets written to: ../model/model2\\assets\n"
     ]
    },
    {
     "name": "stdout",
     "output_type": "stream",
     "text": [
      "16/16 - 9s - loss: 0.0329 - mean_absolute_error: 0.1467 - val_loss: 0.1844 - val_mean_absolute_error: 0.4210 - 9s/epoch - 548ms/step\n",
      "Epoch 3/100\n"
     ]
    },
    {
     "name": "stderr",
     "output_type": "stream",
     "text": [
      "WARNING:absl:Found untraced functions such as lstm_cell_6_layer_call_fn, lstm_cell_6_layer_call_and_return_conditional_losses, lstm_cell_7_layer_call_fn, lstm_cell_7_layer_call_and_return_conditional_losses while saving (showing 4 of 4). These functions will not be directly callable after loading.\n"
     ]
    },
    {
     "name": "stdout",
     "output_type": "stream",
     "text": [
      "INFO:tensorflow:Assets written to: ../model/model2\\assets\n"
     ]
    },
    {
     "name": "stderr",
     "output_type": "stream",
     "text": [
      "INFO:tensorflow:Assets written to: ../model/model2\\assets\n"
     ]
    },
    {
     "name": "stdout",
     "output_type": "stream",
     "text": [
      "16/16 - 9s - loss: 0.0309 - mean_absolute_error: 0.1396 - val_loss: 0.1530 - val_mean_absolute_error: 0.3819 - 9s/epoch - 567ms/step\n",
      "Epoch 4/100\n"
     ]
    },
    {
     "name": "stderr",
     "output_type": "stream",
     "text": [
      "WARNING:absl:Found untraced functions such as lstm_cell_6_layer_call_fn, lstm_cell_6_layer_call_and_return_conditional_losses, lstm_cell_7_layer_call_fn, lstm_cell_7_layer_call_and_return_conditional_losses while saving (showing 4 of 4). These functions will not be directly callable after loading.\n"
     ]
    },
    {
     "name": "stdout",
     "output_type": "stream",
     "text": [
      "INFO:tensorflow:Assets written to: ../model/model2\\assets\n"
     ]
    },
    {
     "name": "stderr",
     "output_type": "stream",
     "text": [
      "INFO:tensorflow:Assets written to: ../model/model2\\assets\n"
     ]
    },
    {
     "name": "stdout",
     "output_type": "stream",
     "text": [
      "16/16 - 10s - loss: 0.0282 - mean_absolute_error: 0.1323 - val_loss: 0.1409 - val_mean_absolute_error: 0.3656 - 10s/epoch - 636ms/step\n",
      "Epoch 5/100\n",
      "16/16 - 0s - loss: 0.0280 - mean_absolute_error: 0.1324 - val_loss: 0.1658 - val_mean_absolute_error: 0.3983 - 245ms/epoch - 15ms/step\n",
      "Epoch 6/100\n",
      "16/16 - 0s - loss: 0.0280 - mean_absolute_error: 0.1343 - val_loss: 0.1445 - val_mean_absolute_error: 0.3705 - 227ms/epoch - 14ms/step\n",
      "Epoch 7/100\n",
      "16/16 - 2s - loss: 0.0280 - mean_absolute_error: 0.1318 - val_loss: 0.1576 - val_mean_absolute_error: 0.3878 - 2s/epoch - 108ms/step\n",
      "Epoch 8/100\n",
      "16/16 - 0s - loss: 0.0275 - mean_absolute_error: 0.1308 - val_loss: 0.1650 - val_mean_absolute_error: 0.3972 - 222ms/epoch - 14ms/step\n",
      "Epoch 9/100\n"
     ]
    },
    {
     "name": "stderr",
     "output_type": "stream",
     "text": [
      "WARNING:absl:Found untraced functions such as lstm_cell_6_layer_call_fn, lstm_cell_6_layer_call_and_return_conditional_losses, lstm_cell_7_layer_call_fn, lstm_cell_7_layer_call_and_return_conditional_losses while saving (showing 4 of 4). These functions will not be directly callable after loading.\n"
     ]
    },
    {
     "name": "stdout",
     "output_type": "stream",
     "text": [
      "INFO:tensorflow:Assets written to: ../model/model2\\assets\n"
     ]
    },
    {
     "name": "stderr",
     "output_type": "stream",
     "text": [
      "INFO:tensorflow:Assets written to: ../model/model2\\assets\n"
     ]
    },
    {
     "name": "stdout",
     "output_type": "stream",
     "text": [
      "16/16 - 8s - loss: 0.0280 - mean_absolute_error: 0.1311 - val_loss: 0.1354 - val_mean_absolute_error: 0.3580 - 8s/epoch - 469ms/step\n",
      "Epoch 10/100\n",
      "16/16 - 0s - loss: 0.0301 - mean_absolute_error: 0.1373 - val_loss: 0.1390 - val_mean_absolute_error: 0.3631 - 399ms/epoch - 25ms/step\n",
      "Epoch 11/100\n",
      "16/16 - 0s - loss: 0.0273 - mean_absolute_error: 0.1301 - val_loss: 0.1509 - val_mean_absolute_error: 0.3791 - 243ms/epoch - 15ms/step\n",
      "Epoch 12/100\n",
      "16/16 - 0s - loss: 0.0286 - mean_absolute_error: 0.1334 - val_loss: 0.1485 - val_mean_absolute_error: 0.3759 - 217ms/epoch - 14ms/step\n",
      "Epoch 13/100\n",
      "16/16 - 0s - loss: 0.0287 - mean_absolute_error: 0.1344 - val_loss: 0.1381 - val_mean_absolute_error: 0.3619 - 223ms/epoch - 14ms/step\n",
      "Epoch 14/100\n",
      "16/16 - 0s - loss: 0.0271 - mean_absolute_error: 0.1298 - val_loss: 0.1646 - val_mean_absolute_error: 0.3968 - 225ms/epoch - 14ms/step\n",
      "Epoch 15/100\n",
      "16/16 - 0s - loss: 0.0282 - mean_absolute_error: 0.1333 - val_loss: 0.1469 - val_mean_absolute_error: 0.3738 - 226ms/epoch - 14ms/step\n",
      "Epoch 16/100\n"
     ]
    },
    {
     "name": "stderr",
     "output_type": "stream",
     "text": [
      "WARNING:absl:Found untraced functions such as lstm_cell_6_layer_call_fn, lstm_cell_6_layer_call_and_return_conditional_losses, lstm_cell_7_layer_call_fn, lstm_cell_7_layer_call_and_return_conditional_losses while saving (showing 4 of 4). These functions will not be directly callable after loading.\n"
     ]
    },
    {
     "name": "stdout",
     "output_type": "stream",
     "text": [
      "INFO:tensorflow:Assets written to: ../model/model2\\assets\n"
     ]
    },
    {
     "name": "stderr",
     "output_type": "stream",
     "text": [
      "INFO:tensorflow:Assets written to: ../model/model2\\assets\n"
     ]
    },
    {
     "name": "stdout",
     "output_type": "stream",
     "text": [
      "16/16 - 7s - loss: 0.0290 - mean_absolute_error: 0.1354 - val_loss: 0.1132 - val_mean_absolute_error: 0.3256 - 7s/epoch - 442ms/step\n",
      "Epoch 17/100\n"
     ]
    },
    {
     "name": "stderr",
     "output_type": "stream",
     "text": [
      "WARNING:absl:Found untraced functions such as lstm_cell_6_layer_call_fn, lstm_cell_6_layer_call_and_return_conditional_losses, lstm_cell_7_layer_call_fn, lstm_cell_7_layer_call_and_return_conditional_losses while saving (showing 4 of 4). These functions will not be directly callable after loading.\n"
     ]
    },
    {
     "name": "stdout",
     "output_type": "stream",
     "text": [
      "INFO:tensorflow:Assets written to: ../model/model2\\assets\n"
     ]
    },
    {
     "name": "stderr",
     "output_type": "stream",
     "text": [
      "INFO:tensorflow:Assets written to: ../model/model2\\assets\n"
     ]
    },
    {
     "name": "stdout",
     "output_type": "stream",
     "text": [
      "16/16 - 7s - loss: 0.0278 - mean_absolute_error: 0.1322 - val_loss: 0.1067 - val_mean_absolute_error: 0.3155 - 7s/epoch - 463ms/step\n",
      "Epoch 18/100\n",
      "16/16 - 0s - loss: 0.0277 - mean_absolute_error: 0.1304 - val_loss: 0.1338 - val_mean_absolute_error: 0.3558 - 378ms/epoch - 24ms/step\n",
      "Epoch 19/100\n",
      "16/16 - 0s - loss: 0.0272 - mean_absolute_error: 0.1321 - val_loss: 0.1444 - val_mean_absolute_error: 0.3705 - 203ms/epoch - 13ms/step\n",
      "Epoch 20/100\n",
      "16/16 - 0s - loss: 0.0277 - mean_absolute_error: 0.1324 - val_loss: 0.1623 - val_mean_absolute_error: 0.3940 - 202ms/epoch - 13ms/step\n",
      "Epoch 21/100\n",
      "16/16 - 0s - loss: 0.0266 - mean_absolute_error: 0.1293 - val_loss: 0.1625 - val_mean_absolute_error: 0.3942 - 205ms/epoch - 13ms/step\n",
      "Epoch 22/100\n",
      "16/16 - 0s - loss: 0.0283 - mean_absolute_error: 0.1324 - val_loss: 0.1961 - val_mean_absolute_error: 0.4348 - 214ms/epoch - 13ms/step\n",
      "Epoch 23/100\n",
      "16/16 - 0s - loss: 0.0298 - mean_absolute_error: 0.1384 - val_loss: 0.1552 - val_mean_absolute_error: 0.3848 - 237ms/epoch - 15ms/step\n",
      "Epoch 24/100\n",
      "16/16 - 0s - loss: 0.0285 - mean_absolute_error: 0.1354 - val_loss: 0.1232 - val_mean_absolute_error: 0.3407 - 202ms/epoch - 13ms/step\n",
      "Epoch 25/100\n",
      "16/16 - 0s - loss: 0.0265 - mean_absolute_error: 0.1302 - val_loss: 0.1389 - val_mean_absolute_error: 0.3631 - 206ms/epoch - 13ms/step\n",
      "Epoch 26/100\n",
      "16/16 - 0s - loss: 0.0272 - mean_absolute_error: 0.1314 - val_loss: 0.1668 - val_mean_absolute_error: 0.3996 - 229ms/epoch - 14ms/step\n",
      "Epoch 27/100\n",
      "Restoring model weights from the end of the best epoch: 17.\n",
      "16/16 - 0s - loss: 0.0258 - mean_absolute_error: 0.1278 - val_loss: 0.1372 - val_mean_absolute_error: 0.3608 - 231ms/epoch - 14ms/step\n",
      "Epoch 27: early stopping\n"
     ]
    }
   ],
   "source": [
    "# Kompilasi dan pelatihan model\n",
    "cp3 = ModelCheckpoint('../model/model2/', save_best_only=True)\n",
    "early_stopping = EarlyStopping(monitor='val_loss', patience=10, verbose=1, restore_best_weights=True)\n",
    "\n",
    "\n",
    "optimizer = Adam(learning_rate=0.001)\n",
    "model.compile(loss='mean_squared_error', optimizer=optimizer, metrics=['mean_absolute_error'])\n",
    "model_final = model.fit(X_train, y_train, epochs=100, batch_size=64, verbose=2, callbacks=[cp3, early_stopping], validation_data=(X_test, y_test))"
   ]
  },
  {
   "cell_type": "markdown",
   "metadata": {},
   "source": [
    "# Evaluation"
   ]
  },
  {
   "cell_type": "code",
   "execution_count": 77,
   "metadata": {},
   "outputs": [
    {
     "name": "stdout",
     "output_type": "stream",
     "text": [
      "8/8 [==============================] - 0s 7ms/step - loss: 0.1067 - mean_absolute_error: 0.3155\n",
      "Loss : [0.10669, 0.31547]\n",
      "8/8 [==============================] - 0s 5ms/step\n"
     ]
    }
   ],
   "source": [
    "# Evaluasi model pada data uji\n",
    "loss = model.evaluate(X_test, y_test)\n",
    "round_loss = [round(num, 5) for num in loss]\n",
    "print(\"Loss :\", round_loss)\n",
    "\n",
    "predict = model.predict(X_test)\n",
    "# print(predict)"
   ]
  },
  {
   "cell_type": "code",
   "execution_count": 78,
   "metadata": {},
   "outputs": [
    {
     "name": "stdout",
     "output_type": "stream",
     "text": [
      "---------------  Metric  ---------------\n",
      "RMSE :  0.32664\n",
      "MSE  :  0.10669\n",
      "MAE  :  0.31547\n"
     ]
    }
   ],
   "source": [
    "print(\"-\"*15, \" Metric \",\"-\"*15)\n",
    "print('RMSE : ', round(sqrt(metrics.mean_squared_error(y_test, predict)), 5))\n",
    "print('MSE  : ', round(abs(metrics.mean_squared_error(y_test, predict)), 5))\n",
    "print('MAE  : ', round(metrics.mean_absolute_error(y_test, predict), 5))"
   ]
  },
  {
   "cell_type": "markdown",
   "metadata": {},
   "source": [
    "# Visualization"
   ]
  },
  {
   "cell_type": "code",
   "execution_count": 73,
   "metadata": {},
   "outputs": [
    {
     "data": {
      "image/png": "[encoded data removed]",
      "text/plain": [
       "<Figure size 640x480 with 1 Axes>"
      ]
     },
     "metadata": {},
     "output_type": "display_data"
    }
   ],
   "source": [
    "# Plot loss\n",
    "sns.set(style=\"whitegrid\")\n",
    "\n",
    "sns.lineplot(x=range(len(model_final.history['loss'])), y=model_final.history['loss'], label='Training Loss')\n",
    "sns.lineplot(x=range(len(model_final.history['val_loss'])), y=model_final.history['val_loss'], label='Validation Loss')\n",
    "plt.xlabel('Epoch')\n",
    "plt.ylabel('Loss')\n",
    "plt.title('Training and Validation Loss Over Epochs')\n",
    "plt.legend()\n",
    "plt.show()"
   ]
  },
  {
   "cell_type": "markdown",
   "metadata": {},
   "source": [
    "# Saving Model"
   ]
  },
  {
   "cell_type": "code",
   "execution_count": null,
   "metadata": {},
   "outputs": [],
   "source": [
    "# Simpan model\n",
    "model.save(\"lstm_model2.keras\")\n",
    "print(\"Successfully save model\")"
   ]
  }
 ],
 "metadata": {
  "kernelspec": {
   "display_name": "ml",
   "language": "python",
   "name": "python3"
  },
  "language_info": {
   "codemirror_mode": {
    "name": "ipython",
    "version": 3
   },
   "file_extension": ".py",
   "mimetype": "text/x-python",
   "name": "python",
   "nbconvert_exporter": "python",
   "pygments_lexer": "ipython3",
   "version": "3.9.18"
  }
 },
 "nbformat": 4,
 "nbformat_minor": 2
}
