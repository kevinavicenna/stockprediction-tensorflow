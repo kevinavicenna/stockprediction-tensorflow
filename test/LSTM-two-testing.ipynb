{
 "cells": [
  {
   "cell_type": "markdown",
   "metadata": {},
   "source": [
    "# Implementation LSTM model for Forecasting\n",
    "### 'My Stock Forecast App'"
   ]
  },
  {
   "cell_type": "code",
   "execution_count": 1,
   "metadata": {},
   "outputs": [],
   "source": [
    "import yfinance as yf\n",
    "from datetime import date\n",
    "import pandas as pd\n",
    "import numpy as np\n",
    "from sklearn import metrics\n",
    "from math import sqrt\n",
    "import seaborn as sns\n",
    "import matplotlib.pyplot as plt"
   ]
  },
  {
   "cell_type": "code",
   "execution_count": 2,
   "metadata": {},
   "outputs": [],
   "source": [
    "from sklearn.preprocessing import MinMaxScaler\n",
    "import tensorflow as tf\n",
    "from tensorflow.keras.models import Sequential\n",
    "from tensorflow.keras.layers import Embedding, LSTM, Dense, Dropout\n",
    "from tensorflow.keras.callbacks import ModelCheckpoint\n",
    "from tensorflow.keras.callbacks import EarlyStopping\n",
    "from tensorflow.keras.optimizers import Adam"
   ]
  },
  {
   "cell_type": "markdown",
   "metadata": {},
   "source": [
    "## DATA INGESTION"
   ]
  },
  {
   "cell_type": "code",
   "execution_count": 3,
   "metadata": {},
   "outputs": [
    {
     "name": "stderr",
     "output_type": "stream",
     "text": [
      "c:\\Users\\kevin\\miniconda3\\envs\\tf\\lib\\site-packages\\yfinance\\utils.py:775: FutureWarning: The 'unit' keyword in TimedeltaIndex construction is deprecated and will be removed in a future version. Use pd.to_timedelta instead.\n",
      "  df.index += _pd.TimedeltaIndex(dst_error_hours, 'h')\n",
      "[*********************100%%**********************]  1 of 1 completed\n"
     ]
    }
   ],
   "source": [
    "# Input dari pengguna untuk simbol saham\n",
    "symbol = input(\"Input simbol saham (e.g 'BBRI.JK'): \")\n",
    "start_date = date(2019, 1, 1)\n",
    "end_date = date(2024, 2, 1)\n",
    "\n",
    "# Mengunduh data saham dari Yahoo Finance\n",
    "data = yf.download(symbol, start=start_date, end=end_date)"
   ]
  },
  {
   "cell_type": "code",
   "execution_count": 4,
   "metadata": {},
   "outputs": [
    {
     "data": {
      "text/html": [
       "<div>\n",
       "<style scoped>\n",
       "    .dataframe tbody tr th:only-of-type {\n",
       "        vertical-align: middle;\n",
       "    }\n",
       "\n",
       "    .dataframe tbody tr th {\n",
       "        vertical-align: top;\n",
       "    }\n",
       "\n",
       "    .dataframe thead th {\n",
       "        text-align: right;\n",
       "    }\n",
       "</style>\n",
       "<table border=\"1\" class=\"dataframe\">\n",
       "  <thead>\n",
       "    <tr style=\"text-align: right;\">\n",
       "      <th></th>\n",
       "      <th>Open</th>\n",
       "      <th>High</th>\n",
       "      <th>Low</th>\n",
       "      <th>Close</th>\n",
       "      <th>Adj Close</th>\n",
       "      <th>Volume</th>\n",
       "    </tr>\n",
       "    <tr>\n",
       "      <th>Date</th>\n",
       "      <th></th>\n",
       "      <th></th>\n",
       "      <th></th>\n",
       "      <th></th>\n",
       "      <th></th>\n",
       "      <th></th>\n",
       "    </tr>\n",
       "  </thead>\n",
       "  <tbody>\n",
       "    <tr>\n",
       "      <th>2019-01-01</th>\n",
       "      <td>3327.215332</td>\n",
       "      <td>3327.215332</td>\n",
       "      <td>3327.215332</td>\n",
       "      <td>3327.215332</td>\n",
       "      <td>2594.004150</td>\n",
       "      <td>0</td>\n",
       "    </tr>\n",
       "    <tr>\n",
       "      <th>2019-01-02</th>\n",
       "      <td>3281.761475</td>\n",
       "      <td>3309.033691</td>\n",
       "      <td>3263.580078</td>\n",
       "      <td>3281.761475</td>\n",
       "      <td>2558.566650</td>\n",
       "      <td>82441033</td>\n",
       "    </tr>\n",
       "    <tr>\n",
       "      <th>2019-01-03</th>\n",
       "      <td>3254.489258</td>\n",
       "      <td>3309.033691</td>\n",
       "      <td>3254.489258</td>\n",
       "      <td>3290.852295</td>\n",
       "      <td>2565.653809</td>\n",
       "      <td>102805905</td>\n",
       "    </tr>\n",
       "    <tr>\n",
       "      <th>2019-01-04</th>\n",
       "      <td>3290.852295</td>\n",
       "      <td>3327.215332</td>\n",
       "      <td>3281.761475</td>\n",
       "      <td>3327.215332</td>\n",
       "      <td>2594.004150</td>\n",
       "      <td>125907734</td>\n",
       "    </tr>\n",
       "    <tr>\n",
       "      <th>2019-01-07</th>\n",
       "      <td>3363.578369</td>\n",
       "      <td>3372.668945</td>\n",
       "      <td>3327.215332</td>\n",
       "      <td>3327.215332</td>\n",
       "      <td>2594.004150</td>\n",
       "      <td>82106628</td>\n",
       "    </tr>\n",
       "  </tbody>\n",
       "</table>\n",
       "</div>"
      ],
      "text/plain": [
       "                   Open         High          Low        Close    Adj Close  \\\n",
       "Date                                                                          \n",
       "2019-01-01  3327.215332  3327.215332  3327.215332  3327.215332  2594.004150   \n",
       "2019-01-02  3281.761475  3309.033691  3263.580078  3281.761475  2558.566650   \n",
       "2019-01-03  3254.489258  3309.033691  3254.489258  3290.852295  2565.653809   \n",
       "2019-01-04  3290.852295  3327.215332  3281.761475  3327.215332  2594.004150   \n",
       "2019-01-07  3363.578369  3372.668945  3327.215332  3327.215332  2594.004150   \n",
       "\n",
       "               Volume  \n",
       "Date                   \n",
       "2019-01-01          0  \n",
       "2019-01-02   82441033  \n",
       "2019-01-03  102805905  \n",
       "2019-01-04  125907734  \n",
       "2019-01-07   82106628  "
      ]
     },
     "execution_count": 4,
     "metadata": {},
     "output_type": "execute_result"
    }
   ],
   "source": [
    "data.head(5)"
   ]
  },
  {
   "cell_type": "code",
   "execution_count": 5,
   "metadata": {},
   "outputs": [
    {
     "name": "stdout",
     "output_type": "stream",
     "text": [
      "(1254, 2)\n"
     ]
    },
    {
     "data": {
      "text/html": [
       "<div>\n",
       "<style scoped>\n",
       "    .dataframe tbody tr th:only-of-type {\n",
       "        vertical-align: middle;\n",
       "    }\n",
       "\n",
       "    .dataframe tbody tr th {\n",
       "        vertical-align: top;\n",
       "    }\n",
       "\n",
       "    .dataframe thead th {\n",
       "        text-align: right;\n",
       "    }\n",
       "</style>\n",
       "<table border=\"1\" class=\"dataframe\">\n",
       "  <thead>\n",
       "    <tr style=\"text-align: right;\">\n",
       "      <th></th>\n",
       "      <th>Date</th>\n",
       "      <th>Close</th>\n",
       "    </tr>\n",
       "  </thead>\n",
       "  <tbody>\n",
       "    <tr>\n",
       "      <th>0</th>\n",
       "      <td>2019-01-01</td>\n",
       "      <td>3327.215332</td>\n",
       "    </tr>\n",
       "    <tr>\n",
       "      <th>1</th>\n",
       "      <td>2019-01-02</td>\n",
       "      <td>3281.761475</td>\n",
       "    </tr>\n",
       "    <tr>\n",
       "      <th>2</th>\n",
       "      <td>2019-01-03</td>\n",
       "      <td>3290.852295</td>\n",
       "    </tr>\n",
       "    <tr>\n",
       "      <th>3</th>\n",
       "      <td>2019-01-04</td>\n",
       "      <td>3327.215332</td>\n",
       "    </tr>\n",
       "    <tr>\n",
       "      <th>4</th>\n",
       "      <td>2019-01-07</td>\n",
       "      <td>3327.215332</td>\n",
       "    </tr>\n",
       "    <tr>\n",
       "      <th>...</th>\n",
       "      <td>...</td>\n",
       "      <td>...</td>\n",
       "    </tr>\n",
       "    <tr>\n",
       "      <th>1249</th>\n",
       "      <td>2024-01-25</td>\n",
       "      <td>5525.000000</td>\n",
       "    </tr>\n",
       "    <tr>\n",
       "      <th>1250</th>\n",
       "      <td>2024-01-26</td>\n",
       "      <td>5425.000000</td>\n",
       "    </tr>\n",
       "    <tr>\n",
       "      <th>1251</th>\n",
       "      <td>2024-01-29</td>\n",
       "      <td>5575.000000</td>\n",
       "    </tr>\n",
       "    <tr>\n",
       "      <th>1252</th>\n",
       "      <td>2024-01-30</td>\n",
       "      <td>5625.000000</td>\n",
       "    </tr>\n",
       "    <tr>\n",
       "      <th>1253</th>\n",
       "      <td>2024-01-31</td>\n",
       "      <td>5700.000000</td>\n",
       "    </tr>\n",
       "  </tbody>\n",
       "</table>\n",
       "<p>1254 rows × 2 columns</p>\n",
       "</div>"
      ],
      "text/plain": [
       "           Date        Close\n",
       "0    2019-01-01  3327.215332\n",
       "1    2019-01-02  3281.761475\n",
       "2    2019-01-03  3290.852295\n",
       "3    2019-01-04  3327.215332\n",
       "4    2019-01-07  3327.215332\n",
       "...         ...          ...\n",
       "1249 2024-01-25  5525.000000\n",
       "1250 2024-01-26  5425.000000\n",
       "1251 2024-01-29  5575.000000\n",
       "1252 2024-01-30  5625.000000\n",
       "1253 2024-01-31  5700.000000\n",
       "\n",
       "[1254 rows x 2 columns]"
      ]
     },
     "execution_count": 5,
     "metadata": {},
     "output_type": "execute_result"
    }
   ],
   "source": [
    "data.reset_index(inplace=True)\n",
    "\n",
    "# Input dari pengguna untuk fitur yang akan digunakan\n",
    "input_feat = input(\"Input feature yang akan digunakan (e.g: Open, High, Low, Close, Adj Close, Volume): \")\n",
    "\n",
    "# Memilih kolom tanggal dan fitur yang akan digunakan\n",
    "data = data[[\"Date\", input_feat]]\n",
    "print(data.shape)\n",
    "data"
   ]
  },
  {
   "cell_type": "markdown",
   "metadata": {},
   "source": [
    "## DATA PROCESSING"
   ]
  },
  {
   "cell_type": "code",
   "execution_count": 6,
   "metadata": {},
   "outputs": [],
   "source": [
    "# Melakukan scaling feature\n",
    "scaler = MinMaxScaler(feature_range=(0, 1))\n",
    "scaled_data = scaler.fit_transform(data[input_feat].values.reshape(-1, 1))\n",
    "\n",
    "# print(scaled_data)\n",
    "# print(dir(scaled_data))"
   ]
  },
  {
   "cell_type": "code",
   "execution_count": 7,
   "metadata": {},
   "outputs": [
    {
     "name": "stdout",
     "output_type": "stream",
     "text": [
      "[[0.34934613]\n",
      " [0.33762308]\n",
      " [0.3399677 ]\n",
      " ...\n",
      " [0.62087085]\n",
      " [0.65182017]\n",
      " [0.64666195]]\n",
      "(1003, 1)\n",
      "[[0.65697839]\n",
      " [0.66729483]\n",
      " [0.67761127]\n",
      " [0.68019038]\n",
      " [0.69050682]\n",
      " [0.68276949]\n",
      " [0.66729483]\n",
      " [0.67503216]\n",
      " [0.68792771]\n",
      " [0.68019038]\n",
      " [0.67245305]\n",
      " [0.69824415]\n",
      " [0.67761127]\n",
      " [0.71629792]\n",
      " [0.71371881]\n",
      " [0.71629792]\n",
      " [0.72661436]\n",
      " [0.73177258]\n",
      " [0.74466813]\n",
      " [0.72919347]\n",
      " [0.74724724]\n",
      " [0.74724724]\n",
      " [0.74724724]\n",
      " [0.74982635]\n",
      " [0.74982635]\n",
      " [0.73435169]\n",
      " [0.71887703]\n",
      " [0.72919347]\n",
      " [0.71887703]\n",
      " [0.73177258]\n",
      " [0.69566504]\n",
      " [0.70856059]\n",
      " [0.72403525]\n",
      " [0.71887703]\n",
      " [0.72661436]\n",
      " [0.73950991]\n",
      " [0.73950991]\n",
      " [0.73177258]\n",
      " [0.73435169]\n",
      " [0.7369308 ]\n",
      " [0.70598148]\n",
      " [0.70340237]\n",
      " [0.7111397 ]\n",
      " [0.75498457]\n",
      " [0.74982635]\n",
      " [0.75498457]\n",
      " [0.72145614]\n",
      " [0.71371881]\n",
      " [0.72145614]\n",
      " [0.73177258]\n",
      " [0.71629792]\n",
      " [0.7111397 ]\n",
      " [0.72919347]\n",
      " [0.73435169]\n",
      " [0.7369308 ]\n",
      " [0.73950991]\n",
      " [0.74466813]\n",
      " [0.74982635]\n",
      " [0.7627219 ]\n",
      " [0.77561744]\n",
      " [0.80011899]\n",
      " [0.77819655]\n",
      " [0.76788011]\n",
      " [0.78722344]\n",
      " [0.81946231]\n",
      " [0.80656676]\n",
      " [0.81946231]\n",
      " [0.80656676]\n",
      " [0.81946231]\n",
      " [0.83880564]\n",
      " [0.80656676]\n",
      " [0.81301454]\n",
      " [0.81946231]\n",
      " [0.81946231]\n",
      " [0.81946231]\n",
      " [0.81946231]\n",
      " [0.83235786]\n",
      " [0.83235786]\n",
      " [0.88394006]\n",
      " [0.89038783]\n",
      " [0.90973116]\n",
      " [0.93552225]\n",
      " [0.90328338]\n",
      " [0.93552225]\n",
      " [0.9226267 ]\n",
      " [0.90973116]\n",
      " [0.92907448]\n",
      " [0.89038783]\n",
      " [0.89683561]\n",
      " [0.88394006]\n",
      " [0.90328338]\n",
      " [0.89038783]\n",
      " [0.88394006]\n",
      " [0.9226267 ]\n",
      " [0.9226267 ]\n",
      " [0.91617893]\n",
      " [0.9226267 ]\n",
      " [0.91617893]\n",
      " [0.9226267 ]\n",
      " [0.92907448]\n",
      " [0.90328338]\n",
      " [0.88394006]\n",
      " [0.89683561]\n",
      " [0.89038783]\n",
      " [0.90328338]\n",
      " [0.89683561]\n",
      " [0.89683561]\n",
      " [0.89038783]\n",
      " [0.87749228]\n",
      " [0.88394006]\n",
      " [0.89038783]\n",
      " [0.89683561]\n",
      " [0.89683561]\n",
      " [0.91617893]\n",
      " [0.92907448]\n",
      " [0.94197003]\n",
      " [0.94197003]\n",
      " [0.94197003]\n",
      " [0.93552225]\n",
      " [0.9484178 ]\n",
      " [0.95486558]\n",
      " [0.9484178 ]\n",
      " [0.96131335]\n",
      " [0.9484178 ]\n",
      " [0.96131335]\n",
      " [0.96131335]\n",
      " [0.96131335]\n",
      " [0.92907448]\n",
      " [0.96131335]\n",
      " [0.94197003]\n",
      " [0.96131335]\n",
      " [0.96131335]\n",
      " [0.9484178 ]\n",
      " [0.9484178 ]\n",
      " [0.92907448]\n",
      " [0.91617893]\n",
      " [0.92907448]\n",
      " [0.90973116]\n",
      " [0.92907448]\n",
      " [0.93552225]\n",
      " [0.9226267 ]\n",
      " [0.93552225]\n",
      " [0.9226267 ]\n",
      " [0.93552225]\n",
      " [0.91617893]\n",
      " [0.9226267 ]\n",
      " [0.92907448]\n",
      " [0.94197003]\n",
      " [0.94197003]\n",
      " [0.92907448]\n",
      " [0.89683561]\n",
      " [0.87104451]\n",
      " [0.89038783]\n",
      " [0.87749228]\n",
      " [0.88394006]\n",
      " [0.89038783]\n",
      " [0.87749228]\n",
      " [0.86459673]\n",
      " [0.87749228]\n",
      " [0.87749228]\n",
      " [0.87104451]\n",
      " [0.87104451]\n",
      " [0.85814896]\n",
      " [0.83235786]\n",
      " [0.83880564]\n",
      " [0.83880564]\n",
      " [0.84525341]\n",
      " [0.85170118]\n",
      " [0.84525341]\n",
      " [0.82591009]\n",
      " [0.82591009]\n",
      " [0.81301454]\n",
      " [0.82591009]\n",
      " [0.84525341]\n",
      " [0.85814896]\n",
      " [0.85170118]\n",
      " [0.84525341]\n",
      " [0.81946231]\n",
      " [0.81946231]\n",
      " [0.78077566]\n",
      " [0.79367121]\n",
      " [0.78077566]\n",
      " [0.80656676]\n",
      " [0.82591009]\n",
      " [0.76014279]\n",
      " [0.78077566]\n",
      " [0.78077566]\n",
      " [0.77045922]\n",
      " [0.7369308 ]\n",
      " [0.78077566]\n",
      " [0.80656676]\n",
      " [0.83235786]\n",
      " [0.84525341]\n",
      " [0.83880564]\n",
      " [0.83235786]\n",
      " [0.80011899]\n",
      " [0.78722344]\n",
      " [0.80011899]\n",
      " [0.84525341]\n",
      " [0.84525341]\n",
      " [0.83880564]\n",
      " [0.84525341]\n",
      " [0.83235786]\n",
      " [0.85170118]\n",
      " [0.87104451]\n",
      " [0.88394006]\n",
      " [0.87104451]\n",
      " [0.87104451]\n",
      " [0.85814896]\n",
      " [0.85170118]\n",
      " [0.87104451]\n",
      " [0.90973116]\n",
      " [0.89683561]\n",
      " [0.89038783]\n",
      " [0.90328338]\n",
      " [0.87749228]\n",
      " [0.85814896]\n",
      " [0.86459673]\n",
      " [0.85814896]\n",
      " [0.9226267 ]\n",
      " [0.9226267 ]\n",
      " [0.90973116]\n",
      " [0.9226267 ]\n",
      " [0.9226267 ]\n",
      " [0.92907448]\n",
      " [0.95486558]\n",
      " [0.94197003]\n",
      " [0.96776113]\n",
      " [0.96776113]\n",
      " [0.95486558]\n",
      " [0.93552225]\n",
      " [0.96131335]\n",
      " [0.9742089 ]\n",
      " [0.94197003]\n",
      " [0.96131335]\n",
      " [0.96131335]\n",
      " [0.9742089 ]\n",
      " [1.        ]\n",
      " [0.99355223]\n",
      " [0.99355223]\n",
      " [0.98065668]\n",
      " [0.9742089 ]\n",
      " [0.98710445]\n",
      " [0.98065668]\n",
      " [0.96131335]\n",
      " [0.9484178 ]\n",
      " [0.91617893]\n",
      " [0.89038783]\n",
      " [0.92907448]\n",
      " [0.94197003]\n",
      " [0.96131335]]\n",
      "(251, 1)\n",
      "1003\n"
     ]
    }
   ],
   "source": [
    "# Pembagian data menjadi data training dan data testing\n",
    "train_size = int(len(scaled_data) * 0.8)\n",
    "train_data, test_data = scaled_data[:train_size, :], scaled_data[train_size:, :]\n",
    "\n",
    "print(train_data)\n",
    "print(train_data.shape)\n",
    "# print(dir(train_data))\n",
    "\n",
    "print(test_data)\n",
    "print(test_data.shape)\n",
    "print(train_size)"
   ]
  },
  {
   "cell_type": "code",
   "execution_count": 8,
   "metadata": {},
   "outputs": [],
   "source": [
    "# Persiapan data untuk model LSTM\n",
    "def create_sequences(data, sequence_length):\n",
    "    sequences = []\n",
    "    target = []\n",
    "    for i in range(len(data) - sequence_length):\n",
    "        sequences.append(data[i:i+sequence_length])\n",
    "        target.append(data[i+sequence_length])\n",
    "    return np.array(sequences), np.array(target)"
   ]
  },
  {
   "cell_type": "code",
   "execution_count": 9,
   "metadata": {},
   "outputs": [],
   "source": [
    "tf.random.set_seed(7)"
   ]
  },
  {
   "cell_type": "code",
   "execution_count": 10,
   "metadata": {},
   "outputs": [],
   "source": [
    "sequence_length = 10 \n",
    "X_train, y_train = create_sequences(train_data, sequence_length)\n",
    "X_test, y_test = create_sequences(test_data, sequence_length)\n",
    "\n",
    "input_dim_size = 10000\n",
    "embedding_dim_size = 100 \n"
   ]
  },
  {
   "cell_type": "markdown",
   "metadata": {},
   "source": [
    "# Modelling"
   ]
  },
  {
   "cell_type": "code",
   "execution_count": 11,
   "metadata": {},
   "outputs": [
    {
     "name": "stdout",
     "output_type": "stream",
     "text": [
      "Model: \"sequential\"\n",
      "_________________________________________________________________\n",
      " Layer (type)                Output Shape              Param #   \n",
      "=================================================================\n",
      " embedding (Embedding)       (None, 10, 100)           1000000   \n",
      "                                                                 \n",
      " lstm (LSTM)                 (None, 10, 128)           117248    \n",
      "                                                                 \n",
      " dropout (Dropout)           (None, 10, 128)           0         \n",
      "                                                                 \n",
      " lstm_1 (LSTM)               (None, 64)                49408     \n",
      "                                                                 \n",
      " dense (Dense)               (None, 32)                2080      \n",
      "                                                                 \n",
      " dense_1 (Dense)             (None, 32)                1056      \n",
      "                                                                 \n",
      " dropout_1 (Dropout)         (None, 32)                0         \n",
      "                                                                 \n",
      " dense_2 (Dense)             (None, 1)                 33        \n",
      "                                                                 \n",
      "=================================================================\n",
      "Total params: 1,169,825\n",
      "Trainable params: 1,169,825\n",
      "Non-trainable params: 0\n",
      "_________________________________________________________________\n"
     ]
    }
   ],
   "source": [
    "# Membangun model LSTM\n",
    "model = Sequential()\n",
    "model.add(Embedding(input_dim=input_dim_size, output_dim=embedding_dim_size, input_length=sequence_length))\n",
    "model.add(LSTM(units=128, return_sequences=True))\n",
    "model.add(Dropout(0.2))\n",
    "model.add(LSTM(units=64))\n",
    "model.add(Dense(32, activation='relu'))\n",
    "model.add(Dense(32, activation='relu'))\n",
    "model.add(Dropout(0.2))\n",
    "model.add(Dense(units=1, activation='relu'))\n",
    "model.summary()"
   ]
  },
  {
   "cell_type": "code",
   "execution_count": 12,
   "metadata": {},
   "outputs": [
    {
     "name": "stdout",
     "output_type": "stream",
     "text": [
      "Epoch 1/100\n"
     ]
    },
    {
     "name": "stderr",
     "output_type": "stream",
     "text": [
      "WARNING:absl:Found untraced functions such as lstm_cell_layer_call_fn, lstm_cell_layer_call_and_return_conditional_losses, lstm_cell_1_layer_call_fn, lstm_cell_1_layer_call_and_return_conditional_losses while saving (showing 4 of 4). These functions will not be directly callable after loading.\n"
     ]
    },
    {
     "name": "stdout",
     "output_type": "stream",
     "text": [
      "INFO:tensorflow:Assets written to: ../model/model2\\assets\n"
     ]
    },
    {
     "name": "stderr",
     "output_type": "stream",
     "text": [
      "INFO:tensorflow:Assets written to: ../model/model2\\assets\n"
     ]
    },
    {
     "name": "stdout",
     "output_type": "stream",
     "text": [
      "16/16 - 15s - loss: 0.0981 - mean_absolute_error: 0.2558 - val_loss: 0.1878 - val_mean_absolute_error: 0.4250 - 15s/epoch - 931ms/step\n",
      "Epoch 2/100\n"
     ]
    },
    {
     "name": "stderr",
     "output_type": "stream",
     "text": [
      "WARNING:absl:Found untraced functions such as lstm_cell_layer_call_fn, lstm_cell_layer_call_and_return_conditional_losses, lstm_cell_1_layer_call_fn, lstm_cell_1_layer_call_and_return_conditional_losses while saving (showing 4 of 4). These functions will not be directly callable after loading.\n"
     ]
    },
    {
     "name": "stdout",
     "output_type": "stream",
     "text": [
      "INFO:tensorflow:Assets written to: ../model/model2\\assets\n"
     ]
    },
    {
     "name": "stderr",
     "output_type": "stream",
     "text": [
      "INFO:tensorflow:Assets written to: ../model/model2\\assets\n"
     ]
    },
    {
     "name": "stdout",
     "output_type": "stream",
     "text": [
      "16/16 - 8s - loss: 0.0316 - mean_absolute_error: 0.1416 - val_loss: 0.1629 - val_mean_absolute_error: 0.3946 - 8s/epoch - 484ms/step\n",
      "Epoch 3/100\n"
     ]
    },
    {
     "name": "stderr",
     "output_type": "stream",
     "text": [
      "WARNING:absl:Found untraced functions such as lstm_cell_layer_call_fn, lstm_cell_layer_call_and_return_conditional_losses, lstm_cell_1_layer_call_fn, lstm_cell_1_layer_call_and_return_conditional_losses while saving (showing 4 of 4). These functions will not be directly callable after loading.\n"
     ]
    },
    {
     "name": "stdout",
     "output_type": "stream",
     "text": [
      "INFO:tensorflow:Assets written to: ../model/model2\\assets\n"
     ]
    },
    {
     "name": "stderr",
     "output_type": "stream",
     "text": [
      "INFO:tensorflow:Assets written to: ../model/model2\\assets\n"
     ]
    },
    {
     "name": "stdout",
     "output_type": "stream",
     "text": [
      "16/16 - 9s - loss: 0.0290 - mean_absolute_error: 0.1360 - val_loss: 0.1450 - val_mean_absolute_error: 0.3712 - 9s/epoch - 533ms/step\n",
      "Epoch 4/100\n"
     ]
    },
    {
     "name": "stderr",
     "output_type": "stream",
     "text": [
      "WARNING:absl:Found untraced functions such as lstm_cell_layer_call_fn, lstm_cell_layer_call_and_return_conditional_losses, lstm_cell_1_layer_call_fn, lstm_cell_1_layer_call_and_return_conditional_losses while saving (showing 4 of 4). These functions will not be directly callable after loading.\n"
     ]
    },
    {
     "name": "stdout",
     "output_type": "stream",
     "text": [
      "INFO:tensorflow:Assets written to: ../model/model2\\assets\n"
     ]
    },
    {
     "name": "stderr",
     "output_type": "stream",
     "text": [
      "INFO:tensorflow:Assets written to: ../model/model2\\assets\n"
     ]
    },
    {
     "name": "stdout",
     "output_type": "stream",
     "text": [
      "16/16 - 8s - loss: 0.0284 - mean_absolute_error: 0.1327 - val_loss: 0.1427 - val_mean_absolute_error: 0.3682 - 8s/epoch - 517ms/step\n",
      "Epoch 5/100\n",
      "16/16 - 0s - loss: 0.0289 - mean_absolute_error: 0.1357 - val_loss: 0.1609 - val_mean_absolute_error: 0.3921 - 370ms/epoch - 23ms/step\n",
      "Epoch 6/100\n",
      "16/16 - 0s - loss: 0.0274 - mean_absolute_error: 0.1323 - val_loss: 0.1532 - val_mean_absolute_error: 0.3821 - 230ms/epoch - 14ms/step\n",
      "Epoch 7/100\n",
      "16/16 - 0s - loss: 0.0278 - mean_absolute_error: 0.1309 - val_loss: 0.1640 - val_mean_absolute_error: 0.3960 - 252ms/epoch - 16ms/step\n",
      "Epoch 8/100\n",
      "16/16 - 0s - loss: 0.0276 - mean_absolute_error: 0.1313 - val_loss: 0.1605 - val_mean_absolute_error: 0.3915 - 240ms/epoch - 15ms/step\n",
      "Epoch 9/100\n"
     ]
    },
    {
     "name": "stderr",
     "output_type": "stream",
     "text": [
      "WARNING:absl:Found untraced functions such as lstm_cell_layer_call_fn, lstm_cell_layer_call_and_return_conditional_losses, lstm_cell_1_layer_call_fn, lstm_cell_1_layer_call_and_return_conditional_losses while saving (showing 4 of 4). These functions will not be directly callable after loading.\n"
     ]
    },
    {
     "name": "stdout",
     "output_type": "stream",
     "text": [
      "INFO:tensorflow:Assets written to: ../model/model2\\assets\n"
     ]
    },
    {
     "name": "stderr",
     "output_type": "stream",
     "text": [
      "INFO:tensorflow:Assets written to: ../model/model2\\assets\n"
     ]
    },
    {
     "name": "stdout",
     "output_type": "stream",
     "text": [
      "16/16 - 8s - loss: 0.0282 - mean_absolute_error: 0.1328 - val_loss: 0.1210 - val_mean_absolute_error: 0.3374 - 8s/epoch - 477ms/step\n",
      "Epoch 10/100\n",
      "16/16 - 0s - loss: 0.0280 - mean_absolute_error: 0.1322 - val_loss: 0.1479 - val_mean_absolute_error: 0.3752 - 426ms/epoch - 27ms/step\n",
      "Epoch 11/100\n",
      "16/16 - 0s - loss: 0.0265 - mean_absolute_error: 0.1301 - val_loss: 0.1517 - val_mean_absolute_error: 0.3802 - 246ms/epoch - 15ms/step\n",
      "Epoch 12/100\n",
      "16/16 - 0s - loss: 0.0271 - mean_absolute_error: 0.1305 - val_loss: 0.1482 - val_mean_absolute_error: 0.3755 - 267ms/epoch - 17ms/step\n",
      "Epoch 13/100\n",
      "16/16 - 0s - loss: 0.0281 - mean_absolute_error: 0.1318 - val_loss: 0.1384 - val_mean_absolute_error: 0.3622 - 230ms/epoch - 14ms/step\n",
      "Epoch 14/100\n",
      "16/16 - 0s - loss: 0.0278 - mean_absolute_error: 0.1316 - val_loss: 0.1529 - val_mean_absolute_error: 0.3817 - 241ms/epoch - 15ms/step\n",
      "Epoch 15/100\n",
      "16/16 - 0s - loss: 0.0275 - mean_absolute_error: 0.1322 - val_loss: 0.1416 - val_mean_absolute_error: 0.3666 - 243ms/epoch - 15ms/step\n",
      "Epoch 16/100\n"
     ]
    },
    {
     "name": "stderr",
     "output_type": "stream",
     "text": [
      "WARNING:absl:Found untraced functions such as lstm_cell_layer_call_fn, lstm_cell_layer_call_and_return_conditional_losses, lstm_cell_1_layer_call_fn, lstm_cell_1_layer_call_and_return_conditional_losses while saving (showing 4 of 4). These functions will not be directly callable after loading.\n"
     ]
    },
    {
     "name": "stdout",
     "output_type": "stream",
     "text": [
      "INFO:tensorflow:Assets written to: ../model/model2\\assets\n"
     ]
    },
    {
     "name": "stderr",
     "output_type": "stream",
     "text": [
      "INFO:tensorflow:Assets written to: ../model/model2\\assets\n"
     ]
    },
    {
     "name": "stdout",
     "output_type": "stream",
     "text": [
      "16/16 - 9s - loss: 0.0284 - mean_absolute_error: 0.1336 - val_loss: 0.1162 - val_mean_absolute_error: 0.3303 - 9s/epoch - 536ms/step\n",
      "Epoch 17/100\n"
     ]
    },
    {
     "name": "stderr",
     "output_type": "stream",
     "text": [
      "WARNING:absl:Found untraced functions such as lstm_cell_layer_call_fn, lstm_cell_layer_call_and_return_conditional_losses, lstm_cell_1_layer_call_fn, lstm_cell_1_layer_call_and_return_conditional_losses while saving (showing 4 of 4). These functions will not be directly callable after loading.\n"
     ]
    },
    {
     "name": "stdout",
     "output_type": "stream",
     "text": [
      "INFO:tensorflow:Assets written to: ../model/model2\\assets\n"
     ]
    },
    {
     "name": "stderr",
     "output_type": "stream",
     "text": [
      "INFO:tensorflow:Assets written to: ../model/model2\\assets\n"
     ]
    },
    {
     "name": "stdout",
     "output_type": "stream",
     "text": [
      "16/16 - 8s - loss: 0.0270 - mean_absolute_error: 0.1293 - val_loss: 0.1142 - val_mean_absolute_error: 0.3273 - 8s/epoch - 500ms/step\n",
      "Epoch 18/100\n",
      "16/16 - 0s - loss: 0.0260 - mean_absolute_error: 0.1285 - val_loss: 0.1359 - val_mean_absolute_error: 0.3589 - 424ms/epoch - 26ms/step\n",
      "Epoch 19/100\n",
      "16/16 - 0s - loss: 0.0260 - mean_absolute_error: 0.1282 - val_loss: 0.1392 - val_mean_absolute_error: 0.3634 - 258ms/epoch - 16ms/step\n",
      "Epoch 20/100\n",
      "16/16 - 0s - loss: 0.0270 - mean_absolute_error: 0.1305 - val_loss: 0.1682 - val_mean_absolute_error: 0.4014 - 270ms/epoch - 17ms/step\n",
      "Epoch 21/100\n",
      "16/16 - 0s - loss: 0.0262 - mean_absolute_error: 0.1287 - val_loss: 0.1657 - val_mean_absolute_error: 0.3982 - 274ms/epoch - 17ms/step\n",
      "Epoch 22/100\n",
      "16/16 - 0s - loss: 0.0267 - mean_absolute_error: 0.1276 - val_loss: 0.1970 - val_mean_absolute_error: 0.4358 - 280ms/epoch - 18ms/step\n",
      "Epoch 23/100\n",
      "16/16 - 0s - loss: 0.0287 - mean_absolute_error: 0.1353 - val_loss: 0.1699 - val_mean_absolute_error: 0.4035 - 248ms/epoch - 15ms/step\n",
      "Epoch 24/100\n",
      "16/16 - 0s - loss: 0.0264 - mean_absolute_error: 0.1303 - val_loss: 0.1390 - val_mean_absolute_error: 0.3632 - 252ms/epoch - 16ms/step\n",
      "Epoch 25/100\n",
      "16/16 - 0s - loss: 0.0254 - mean_absolute_error: 0.1270 - val_loss: 0.1405 - val_mean_absolute_error: 0.3654 - 248ms/epoch - 15ms/step\n",
      "Epoch 26/100\n",
      "16/16 - 0s - loss: 0.0261 - mean_absolute_error: 0.1273 - val_loss: 0.1680 - val_mean_absolute_error: 0.4011 - 251ms/epoch - 16ms/step\n",
      "Epoch 27/100\n",
      "Restoring model weights from the end of the best epoch: 17.\n",
      "16/16 - 0s - loss: 0.0263 - mean_absolute_error: 0.1292 - val_loss: 0.1428 - val_mean_absolute_error: 0.3684 - 272ms/epoch - 17ms/step\n",
      "Epoch 27: early stopping\n"
     ]
    }
   ],
   "source": [
    "# Kompilasi dan pelatihan model\n",
    "cp3 = ModelCheckpoint('../model/model2/', save_best_only=True)\n",
    "early_stopping = EarlyStopping(monitor='val_loss', patience=10, verbose=1, restore_best_weights=True)\n",
    "\n",
    "\n",
    "optimizer = Adam(learning_rate=0.001)\n",
    "model.compile(loss='mean_squared_error', optimizer=optimizer, metrics=['mean_absolute_error'])\n",
    "model_final = model.fit(X_train, y_train, epochs=100, batch_size=64, verbose=2, callbacks=[cp3, early_stopping], validation_data=(X_test, y_test))"
   ]
  },
  {
   "cell_type": "markdown",
   "metadata": {},
   "source": [
    "# Evaluation"
   ]
  },
  {
   "cell_type": "code",
   "execution_count": 13,
   "metadata": {},
   "outputs": [
    {
     "name": "stdout",
     "output_type": "stream",
     "text": [
      "8/8 [==============================] - 0s 6ms/step - loss: 0.1142 - mean_absolute_error: 0.3273\n",
      "Loss : [0.11423, 0.32725]\n",
      "8/8 [==============================] - 1s 5ms/step\n"
     ]
    }
   ],
   "source": [
    "# Evaluasi model pada data uji\n",
    "loss = model.evaluate(X_test, y_test)\n",
    "round_loss = [round(num, 5) for num in loss]\n",
    "print(\"Loss :\", round_loss)\n",
    "\n",
    "predict = model.predict(X_test)\n",
    "# print(predict)"
   ]
  },
  {
   "cell_type": "code",
   "execution_count": 14,
   "metadata": {},
   "outputs": [
    {
     "name": "stdout",
     "output_type": "stream",
     "text": [
      "---------------  Metric  ---------------\n",
      "RMSE :  0.33798\n",
      "MSE  :  0.11423\n",
      "MAE  :  0.32725\n"
     ]
    }
   ],
   "source": [
    "print(\"-\"*15, \" Metric \",\"-\"*15)\n",
    "print('RMSE : ', round(sqrt(metrics.mean_squared_error(y_test, predict)), 5))\n",
    "print('MSE  : ', round(abs(metrics.mean_squared_error(y_test, predict)), 5))\n",
    "print('MAE  : ', round(metrics.mean_absolute_error(y_test, predict), 5))"
   ]
  },
  {
   "cell_type": "markdown",
   "metadata": {},
   "source": [
    "# Visualization"
   ]
  },
  {
   "cell_type": "code",
   "execution_count": 15,
   "metadata": {},
   "outputs": [
    {
     "data": {
      "image/png": "[encoded data removed]",
      "text/plain": [
       "<Figure size 640x480 with 1 Axes>"
      ]
     },
     "metadata": {},
     "output_type": "display_data"
    }
   ],
   "source": [
    "# Plot loss\n",
    "sns.set(style=\"whitegrid\")\n",
    "\n",
    "sns.lineplot(x=range(len(model_final.history['loss'])), y=model_final.history['loss'], label='Training Loss')\n",
    "sns.lineplot(x=range(len(model_final.history['val_loss'])), y=model_final.history['val_loss'], label='Validation Loss')\n",
    "plt.xlabel('Epoch')\n",
    "plt.ylabel('Loss')\n",
    "plt.title('Training and Validation Loss Over Epochs')\n",
    "plt.legend()\n",
    "plt.show()"
   ]
  },
  {
   "cell_type": "markdown",
   "metadata": {},
   "source": [
    "# Saving Model"
   ]
  },
  {
   "cell_type": "code",
   "execution_count": 16,
   "metadata": {},
   "outputs": [
    {
     "name": "stderr",
     "output_type": "stream",
     "text": [
      "WARNING:absl:Found untraced functions such as lstm_cell_layer_call_fn, lstm_cell_layer_call_and_return_conditional_losses, lstm_cell_1_layer_call_fn, lstm_cell_1_layer_call_and_return_conditional_losses while saving (showing 4 of 4). These functions will not be directly callable after loading.\n"
     ]
    },
    {
     "name": "stdout",
     "output_type": "stream",
     "text": [
      "INFO:tensorflow:Assets written to: ../lstm_stock/1713643381/assets\n"
     ]
    },
    {
     "name": "stderr",
     "output_type": "stream",
     "text": [
      "INFO:tensorflow:Assets written to: ../lstm_stock/1713643381/assets\n"
     ]
    },
    {
     "name": "stdout",
     "output_type": "stream",
     "text": [
      "Sucess saving model!\n"
     ]
    }
   ],
   "source": [
    "import time\n",
    "\n",
    "ts = int(time.time())\n",
    "file_path = f\"../lstm_stock/{ts}/\"\n",
    "model.save(filepath=file_path, save_format='tf')\n",
    "# model.save(\"../lstm_model3.keras\")\n",
    "print(\"Sucess saving model!\")"
   ]
  }
 ],
 "metadata": {
  "kernelspec": {
   "display_name": "ml",
   "language": "python",
   "name": "python3"
  },
  "language_info": {
   "codemirror_mode": {
    "name": "ipython",
    "version": 3
   },
   "file_extension": ".py",
   "mimetype": "text/x-python",
   "name": "python",
   "nbconvert_exporter": "python",
   "pygments_lexer": "ipython3",
   "version": "3.9.18"
  }
 },
 "nbformat": 4,
 "nbformat_minor": 2
}
