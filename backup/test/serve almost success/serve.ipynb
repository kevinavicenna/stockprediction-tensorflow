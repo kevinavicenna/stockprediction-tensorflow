{
 "cells": [
  {
   "cell_type": "code",
   "execution_count": 22,
   "metadata": {},
   "outputs": [],
   "source": [
    "import os\n",
    "import json\n",
    "import requests\n",
    "import yfinance as yf\n",
    "import pandas as pd\n",
    "\n",
    "import datetime\n",
    "from datetime import date, timedelta\n",
    "\n",
    "from sklearn.preprocessing import MinMaxScaler"
   ]
  },
  {
   "cell_type": "code",
   "execution_count": 23,
   "metadata": {},
   "outputs": [
    {
     "name": "stderr",
     "output_type": "stream",
     "text": [
      "c:\\Users\\kevin\\miniconda3\\envs\\tf\\lib\\site-packages\\yfinance\\utils.py:775: FutureWarning: The 'unit' keyword in TimedeltaIndex construction is deprecated and will be removed in a future version. Use pd.to_timedelta instead.\n",
      "  df.index += _pd.TimedeltaIndex(dst_error_hours, 'h')\n",
      "[*********************100%%**********************]  1 of 1 completed"
     ]
    },
    {
     "name": "stdout",
     "output_type": "stream",
     "text": [
      "Date from: 2023-12-01 to: 2024-03-31\n",
      "         Date    Open    High     Low   Close    Adj Close     Volume\n",
      "0  2023-12-01  5275.0  5375.0  5275.0  5350.0  5077.938965   99499500\n",
      "1  2023-12-04  5450.0  5575.0  5450.0  5500.0  5220.311035  235595700\n",
      "2  2023-12-05  5425.0  5500.0  5425.0  5450.0  5172.854004  114689900\n",
      "3  2023-12-06  5425.0  5450.0  5400.0  5425.0  5149.125000  119716700\n",
      "4  2023-12-07  5400.0  5475.0  5400.0  5475.0  5196.582520  102126600\n",
      "..        ...     ...     ...     ...     ...          ...        ...\n",
      "72 2024-03-22  6050.0  6125.0  6050.0  6125.0  6125.000000   46529200\n",
      "73 2024-03-25  6250.0  6250.0  6125.0  6250.0  6250.000000  115729600\n",
      "74 2024-03-26  6300.0  6300.0  6200.0  6300.0  6300.000000  120748400\n",
      "75 2024-03-27  6300.0  6325.0  6225.0  6250.0  6250.000000   73308900\n",
      "76 2024-03-28  6100.0  6200.0  6025.0  6050.0  6050.000000  288926900\n",
      "\n",
      "[77 rows x 7 columns]\n"
     ]
    },
    {
     "name": "stderr",
     "output_type": "stream",
     "text": [
      "\n"
     ]
    }
   ],
   "source": [
    "start_date = date(2023, 12, 1)\n",
    "end_date = date(2024, 3, 31)\n",
    "\n",
    "input_yf = \"BBRI.JK\"\n",
    "data = yf.download(input_yf, start=start_date, end=end_date)\n",
    "\n",
    "# Make date as a column\n",
    "data.insert(0, \"Date\", data.index, True)\n",
    "data.reset_index(drop=True, inplace=True)\n",
    "\n",
    "# Print data information\n",
    "print(f\"Date from: {start_date} to: {end_date}\")\n",
    "print(data)\n",
    "\n",
    "columns = \"Close\"\n",
    "data = data[[\"Date\", columns]]\n",
    "scaler = MinMaxScaler(feature_range=(0, 1))\n",
    "scaled_data = scaler.fit_transform(data[columns].values.reshape(-1, 1))\n",
    "\n",
    "# Split data into train and test sets\n",
    "train_size = int(len(scaled_data) * 0.8)\n",
    "test_size = len(scaled_data) - train_size\n",
    "train_data, test_data = scaled_data[:train_size, :], scaled_data[train_size:, :]\n"
   ]
  },
  {
   "cell_type": "code",
   "execution_count": null,
   "metadata": {},
   "outputs": [],
   "source": []
  },
  {
   "cell_type": "code",
   "execution_count": 24,
   "metadata": {},
   "outputs": [],
   "source": [
    "# Define the API endpoint\n",
    "api_url = 'http://localhost:8501/v1/models/lstm_stock:predict'\n",
    " \n",
    "# Set the request headers\n",
    "headers = {\"content-type\": \"application/json\"}\n",
    " "
   ]
  },
  {
   "cell_type": "code",
   "execution_count": 25,
   "metadata": {},
   "outputs": [],
   "source": [
    "signature_name = \"serving_default\"\n",
    "# Consider the first 10 data_test images \n",
    "instances = test_data.reshape(-1, 1, 1).tolist()\n",
    " \n",
    "# Create a dictionary\n",
    "data_dict = {\n",
    "    \"signature_name\": signature_name,\n",
    "    \"instances\": instances\n",
    "}"
   ]
  },
  {
   "cell_type": "code",
   "execution_count": 30,
   "metadata": {},
   "outputs": [],
   "source": [
    "# dir(instances)"
   ]
  },
  {
   "cell_type": "code",
   "execution_count": 31,
   "metadata": {},
   "outputs": [
    {
     "data": {
      "text/plain": [
       "'{\"signature_name\": \"serving_default\", \"instances\": [[[0.75]], [[0.8181818181818183]], [[0.8409090909090908]], [[0.9545454545454541]], [[1.0]], [[0.7727272727272725]], [[0.6136363636363633]], [[0.6363636363636358]], [[0.6363636363636358]], [[0.7272727272727275]], [[0.7272727272727275]], [[0.75]], [[0.8636363636363633]], [[0.9090909090909092]], [[0.8636363636363633]], [[0.6818181818181817]]]}'"
      ]
     },
     "execution_count": 31,
     "metadata": {},
     "output_type": "execute_result"
    }
   ],
   "source": [
    "data = json.dumps(data_dict)\n",
    "data"
   ]
  },
  {
   "cell_type": "code",
   "execution_count": 32,
   "metadata": {},
   "outputs": [],
   "source": [
    "# Send a POST request to the API with the JSON data\n",
    "response = requests.post(api_url, data=data, headers=headers)"
   ]
  },
  {
   "cell_type": "code",
   "execution_count": 33,
   "metadata": {},
   "outputs": [
    {
     "data": {
      "text/plain": [
       "<Response [200]>"
      ]
     },
     "execution_count": 33,
     "metadata": {},
     "output_type": "execute_result"
    }
   ],
   "source": [
    "response"
   ]
  },
  {
   "cell_type": "code",
   "execution_count": 34,
   "metadata": {},
   "outputs": [],
   "source": [
    "# Check if the request was successful\n",
    "if response.status_code == 200:\n",
    "    # Parse the JSON response and extract predictions\n",
    "    response_data = json.loads(response.text)\n",
    "    predictions = response_data['predictions']\n",
    "else:\n",
    "    print(f\"Failed to make a request. Status code: {response.status_code}\")"
   ]
  },
  {
   "cell_type": "code",
   "execution_count": null,
   "metadata": {},
   "outputs": [],
   "source": []
  }
 ],
 "metadata": {
  "kernelspec": {
   "display_name": "tf",
   "language": "python",
   "name": "python3"
  },
  "language_info": {
   "codemirror_mode": {
    "name": "ipython",
    "version": 3
   },
   "file_extension": ".py",
   "mimetype": "text/x-python",
   "name": "python",
   "nbconvert_exporter": "python",
   "pygments_lexer": "ipython3",
   "version": "3.9.18"
  }
 },
 "nbformat": 4,
 "nbformat_minor": 2
}
