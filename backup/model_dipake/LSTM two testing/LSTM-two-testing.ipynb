{
 "cells": [
  {
   "cell_type": "markdown",
   "metadata": {},
   "source": [
    "# Implementation LSTM model for Forecasting"
   ]
  },
  {
   "cell_type": "code",
   "execution_count": 302,
   "metadata": {},
   "outputs": [],
   "source": [
    "import yfinance as yf\n",
    "from datetime import date\n",
    "import pandas as pd\n",
    "import numpy as np\n",
    "from sklearn import metrics\n",
    "from math import sqrt\n",
    "import seaborn as sns\n",
    "import matplotlib.pyplot as plt"
   ]
  },
  {
   "cell_type": "code",
   "execution_count": 303,
   "metadata": {},
   "outputs": [],
   "source": [
    "from sklearn.preprocessing import MinMaxScaler\n",
    "import tensorflow as tf\n",
    "from tensorflow.keras.models import Sequential\n",
    "from tensorflow.keras.layers import LSTM, Dense, Dropout\n",
    "from tensorflow.keras.callbacks import EarlyStopping\n",
    "from tensorflow.keras.optimizers import Adam"
   ]
  },
  {
   "cell_type": "markdown",
   "metadata": {},
   "source": [
    "## DATA INGESTION"
   ]
  },
  {
   "cell_type": "code",
   "execution_count": 304,
   "metadata": {},
   "outputs": [
    {
     "name": "stderr",
     "output_type": "stream",
     "text": [
      "c:\\Users\\kevin\\miniconda3\\envs\\tf\\lib\\site-packages\\yfinance\\utils.py:775: FutureWarning: The 'unit' keyword in TimedeltaIndex construction is deprecated and will be removed in a future version. Use pd.to_timedelta instead.\n",
      "  df.index += _pd.TimedeltaIndex(dst_error_hours, 'h')\n",
      "[*********************100%%**********************]  1 of 1 completed\n"
     ]
    }
   ],
   "source": [
    "# Input simbol saham\n",
    "symbol = input(\"Input simbol saham (e.g 'BBRI.JK'): \")\n",
    "start_date = date(2023, 1, 1)\n",
    "end_date = date(2024, 1, 1)\n",
    "\n",
    "data = yf.download(symbol, start=start_date, end=end_date)"
   ]
  },
  {
   "cell_type": "code",
   "execution_count": 305,
   "metadata": {},
   "outputs": [
    {
     "data": {
      "text/html": [
       "<div>\n",
       "<style scoped>\n",
       "    .dataframe tbody tr th:only-of-type {\n",
       "        vertical-align: middle;\n",
       "    }\n",
       "\n",
       "    .dataframe tbody tr th {\n",
       "        vertical-align: top;\n",
       "    }\n",
       "\n",
       "    .dataframe thead th {\n",
       "        text-align: right;\n",
       "    }\n",
       "</style>\n",
       "<table border=\"1\" class=\"dataframe\">\n",
       "  <thead>\n",
       "    <tr style=\"text-align: right;\">\n",
       "      <th></th>\n",
       "      <th>Open</th>\n",
       "      <th>High</th>\n",
       "      <th>Low</th>\n",
       "      <th>Close</th>\n",
       "      <th>Adj Close</th>\n",
       "      <th>Volume</th>\n",
       "    </tr>\n",
       "    <tr>\n",
       "      <th>Date</th>\n",
       "      <th></th>\n",
       "      <th></th>\n",
       "      <th></th>\n",
       "      <th></th>\n",
       "      <th></th>\n",
       "      <th></th>\n",
       "    </tr>\n",
       "  </thead>\n",
       "  <tbody>\n",
       "    <tr>\n",
       "      <th>2023-01-02</th>\n",
       "      <td>4910.0</td>\n",
       "      <td>4920.0</td>\n",
       "      <td>4820.0</td>\n",
       "      <td>4870.0</td>\n",
       "      <td>4349.535645</td>\n",
       "      <td>100200100</td>\n",
       "    </tr>\n",
       "    <tr>\n",
       "      <th>2023-01-03</th>\n",
       "      <td>4830.0</td>\n",
       "      <td>4900.0</td>\n",
       "      <td>4830.0</td>\n",
       "      <td>4850.0</td>\n",
       "      <td>4331.673340</td>\n",
       "      <td>95136500</td>\n",
       "    </tr>\n",
       "    <tr>\n",
       "      <th>2023-01-04</th>\n",
       "      <td>4850.0</td>\n",
       "      <td>4850.0</td>\n",
       "      <td>4770.0</td>\n",
       "      <td>4770.0</td>\n",
       "      <td>4260.223145</td>\n",
       "      <td>188071000</td>\n",
       "    </tr>\n",
       "    <tr>\n",
       "      <th>2023-01-05</th>\n",
       "      <td>4750.0</td>\n",
       "      <td>4760.0</td>\n",
       "      <td>4570.0</td>\n",
       "      <td>4640.0</td>\n",
       "      <td>4144.116211</td>\n",
       "      <td>292142000</td>\n",
       "    </tr>\n",
       "    <tr>\n",
       "      <th>2023-01-06</th>\n",
       "      <td>4550.0</td>\n",
       "      <td>4640.0</td>\n",
       "      <td>4550.0</td>\n",
       "      <td>4620.0</td>\n",
       "      <td>4126.253418</td>\n",
       "      <td>175932000</td>\n",
       "    </tr>\n",
       "  </tbody>\n",
       "</table>\n",
       "</div>"
      ],
      "text/plain": [
       "              Open    High     Low   Close    Adj Close     Volume\n",
       "Date                                                              \n",
       "2023-01-02  4910.0  4920.0  4820.0  4870.0  4349.535645  100200100\n",
       "2023-01-03  4830.0  4900.0  4830.0  4850.0  4331.673340   95136500\n",
       "2023-01-04  4850.0  4850.0  4770.0  4770.0  4260.223145  188071000\n",
       "2023-01-05  4750.0  4760.0  4570.0  4640.0  4144.116211  292142000\n",
       "2023-01-06  4550.0  4640.0  4550.0  4620.0  4126.253418  175932000"
      ]
     },
     "execution_count": 305,
     "metadata": {},
     "output_type": "execute_result"
    }
   ],
   "source": [
    "data.head(5)"
   ]
  },
  {
   "cell_type": "code",
   "execution_count": 306,
   "metadata": {},
   "outputs": [
    {
     "name": "stdout",
     "output_type": "stream",
     "text": [
      "(239, 2)\n"
     ]
    },
    {
     "data": {
      "text/html": [
       "<div>\n",
       "<style scoped>\n",
       "    .dataframe tbody tr th:only-of-type {\n",
       "        vertical-align: middle;\n",
       "    }\n",
       "\n",
       "    .dataframe tbody tr th {\n",
       "        vertical-align: top;\n",
       "    }\n",
       "\n",
       "    .dataframe thead th {\n",
       "        text-align: right;\n",
       "    }\n",
       "</style>\n",
       "<table border=\"1\" class=\"dataframe\">\n",
       "  <thead>\n",
       "    <tr style=\"text-align: right;\">\n",
       "      <th></th>\n",
       "      <th>Date</th>\n",
       "      <th>Close</th>\n",
       "    </tr>\n",
       "  </thead>\n",
       "  <tbody>\n",
       "    <tr>\n",
       "      <th>0</th>\n",
       "      <td>2023-01-02</td>\n",
       "      <td>4870.0</td>\n",
       "    </tr>\n",
       "    <tr>\n",
       "      <th>1</th>\n",
       "      <td>2023-01-03</td>\n",
       "      <td>4850.0</td>\n",
       "    </tr>\n",
       "    <tr>\n",
       "      <th>2</th>\n",
       "      <td>2023-01-04</td>\n",
       "      <td>4770.0</td>\n",
       "    </tr>\n",
       "    <tr>\n",
       "      <th>3</th>\n",
       "      <td>2023-01-05</td>\n",
       "      <td>4640.0</td>\n",
       "    </tr>\n",
       "    <tr>\n",
       "      <th>4</th>\n",
       "      <td>2023-01-06</td>\n",
       "      <td>4620.0</td>\n",
       "    </tr>\n",
       "    <tr>\n",
       "      <th>...</th>\n",
       "      <td>...</td>\n",
       "      <td>...</td>\n",
       "    </tr>\n",
       "    <tr>\n",
       "      <th>234</th>\n",
       "      <td>2023-12-21</td>\n",
       "      <td>5575.0</td>\n",
       "    </tr>\n",
       "    <tr>\n",
       "      <th>235</th>\n",
       "      <td>2023-12-22</td>\n",
       "      <td>5675.0</td>\n",
       "    </tr>\n",
       "    <tr>\n",
       "      <th>236</th>\n",
       "      <td>2023-12-27</td>\n",
       "      <td>5625.0</td>\n",
       "    </tr>\n",
       "    <tr>\n",
       "      <th>237</th>\n",
       "      <td>2023-12-28</td>\n",
       "      <td>5725.0</td>\n",
       "    </tr>\n",
       "    <tr>\n",
       "      <th>238</th>\n",
       "      <td>2023-12-29</td>\n",
       "      <td>5725.0</td>\n",
       "    </tr>\n",
       "  </tbody>\n",
       "</table>\n",
       "<p>239 rows × 2 columns</p>\n",
       "</div>"
      ],
      "text/plain": [
       "          Date   Close\n",
       "0   2023-01-02  4870.0\n",
       "1   2023-01-03  4850.0\n",
       "2   2023-01-04  4770.0\n",
       "3   2023-01-05  4640.0\n",
       "4   2023-01-06  4620.0\n",
       "..         ...     ...\n",
       "234 2023-12-21  5575.0\n",
       "235 2023-12-22  5675.0\n",
       "236 2023-12-27  5625.0\n",
       "237 2023-12-28  5725.0\n",
       "238 2023-12-29  5725.0\n",
       "\n",
       "[239 rows x 2 columns]"
      ]
     },
     "execution_count": 306,
     "metadata": {},
     "output_type": "execute_result"
    }
   ],
   "source": [
    "data.reset_index(inplace=True)\n",
    "\n",
    "input_feat = input(\"Input feature yang akan digunakan (e.g: Open, High, Low, Close, Adj Close, Volume): \")\n",
    "data = data[[\"Date\", input_feat]]\n",
    "print(data.shape)\n",
    "data"
   ]
  },
  {
   "cell_type": "markdown",
   "metadata": {},
   "source": [
    "## DATA PROCESSING"
   ]
  },
  {
   "cell_type": "code",
   "execution_count": 307,
   "metadata": {},
   "outputs": [],
   "source": [
    "# scaling feature\n",
    "scaler = MinMaxScaler(feature_range=(0, 1))\n",
    "scaled_data = scaler.fit_transform(data[input_feat].values.reshape(-1, 1))\n",
    "\n",
    "# print(scaled_data)"
   ]
  },
  {
   "cell_type": "code",
   "execution_count": 308,
   "metadata": {},
   "outputs": [],
   "source": [
    "# Pembagian data menjadi data training dan data testing\n",
    "train_size = int(len(scaled_data) * 0.8)\n",
    "train_data, test_data = scaled_data[:train_size, :], scaled_data[train_size:, :]\n",
    "\n",
    "# print(train_data)\n",
    "# print(train_data.shape)\n",
    "\n",
    "# print(train_size)\n",
    "# print(train_size.shape)"
   ]
  },
  {
   "cell_type": "code",
   "execution_count": 309,
   "metadata": {},
   "outputs": [],
   "source": [
    "# Persiapan data untuk model LSTM\n",
    "def create_sequences(data, sequence_length):\n",
    "    sequences = []\n",
    "    target = []\n",
    "    for i in range(len(data) - sequence_length):\n",
    "        sequences.append(data[i:i+sequence_length])\n",
    "        target.append(data[i+sequence_length])\n",
    "    return np.array(sequences), np.array(target)"
   ]
  },
  {
   "cell_type": "code",
   "execution_count": 310,
   "metadata": {},
   "outputs": [],
   "source": [
    "tf.random.set_seed(7)"
   ]
  },
  {
   "cell_type": "code",
   "execution_count": 311,
   "metadata": {},
   "outputs": [],
   "source": [
    "sequence_length = 1\n",
    "X_train, y_train = create_sequences(train_data, sequence_length)\n",
    "X_test, y_test = create_sequences(test_data, sequence_length)"
   ]
  },
  {
   "cell_type": "markdown",
   "metadata": {},
   "source": [
    "# Modelling"
   ]
  },
  {
   "cell_type": "code",
   "execution_count": 312,
   "metadata": {},
   "outputs": [
    {
     "name": "stdout",
     "output_type": "stream",
     "text": [
      "Model: \"sequential_19\"\n",
      "_________________________________________________________________\n",
      " Layer (type)                Output Shape              Param #   \n",
      "=================================================================\n",
      " lstm_62 (LSTM)              (None, 1, 128)            66560     \n",
      "                                                                 \n",
      " dropout_62 (Dropout)        (None, 1, 128)            0         \n",
      "                                                                 \n",
      " lstm_63 (LSTM)              (None, 1, 64)             49408     \n",
      "                                                                 \n",
      " dropout_63 (Dropout)        (None, 1, 64)             0         \n",
      "                                                                 \n",
      " lstm_64 (LSTM)              (None, 32)                12416     \n",
      "                                                                 \n",
      " dropout_64 (Dropout)        (None, 32)                0         \n",
      "                                                                 \n",
      " dense_37 (Dense)            (None, 1)                 33        \n",
      "                                                                 \n",
      "=================================================================\n",
      "Total params: 128,417\n",
      "Trainable params: 128,417\n",
      "Non-trainable params: 0\n",
      "_________________________________________________________________\n"
     ]
    }
   ],
   "source": [
    "# model LSTM\n",
    "model = Sequential()\n",
    "model.add(LSTM(units=128, return_sequences=True, input_shape=(sequence_length, 1)))\n",
    "model.add(Dropout(0.2))\n",
    "model.add(LSTM(units=64, return_sequences=True))\n",
    "model.add(Dropout(0.2))\n",
    "model.add(LSTM(units=32))\n",
    "model.add(Dropout(0.2))\n",
    "model.add(Dense(units=1))\n",
    "model.summary()"
   ]
  },
  {
   "cell_type": "markdown",
   "metadata": {},
   "source": [
    "# Training"
   ]
  },
  {
   "cell_type": "code",
   "execution_count": 313,
   "metadata": {},
   "outputs": [
    {
     "name": "stdout",
     "output_type": "stream",
     "text": [
      "Epoch 1/100\n",
      "3/3 - 5s - loss: 0.3912 - mean_absolute_error: 0.5641 - val_loss: 0.3964 - val_mean_absolute_error: 0.6099 - 5s/epoch - 2s/step\n",
      "Epoch 2/100\n",
      "3/3 - 0s - loss: 0.2974 - mean_absolute_error: 0.4792 - val_loss: 0.2469 - val_mean_absolute_error: 0.4749 - 142ms/epoch - 47ms/step\n",
      "Epoch 3/100\n",
      "3/3 - 0s - loss: 0.1551 - mean_absolute_error: 0.3252 - val_loss: 0.0541 - val_mean_absolute_error: 0.2049 - 139ms/epoch - 46ms/step\n",
      "Epoch 4/100\n",
      "3/3 - 0s - loss: 0.0512 - mean_absolute_error: 0.1906 - val_loss: 0.0505 - val_mean_absolute_error: 0.2085 - 119ms/epoch - 40ms/step\n",
      "Epoch 5/100\n",
      "3/3 - 0s - loss: 0.0877 - mean_absolute_error: 0.2625 - val_loss: 0.0201 - val_mean_absolute_error: 0.1182 - 90ms/epoch - 30ms/step\n",
      "Epoch 6/100\n",
      "3/3 - 0s - loss: 0.0411 - mean_absolute_error: 0.1639 - val_loss: 0.0209 - val_mean_absolute_error: 0.1190 - 91ms/epoch - 30ms/step\n",
      "Epoch 7/100\n",
      "3/3 - 0s - loss: 0.0467 - mean_absolute_error: 0.1842 - val_loss: 0.0464 - val_mean_absolute_error: 0.1866 - 92ms/epoch - 31ms/step\n",
      "Epoch 8/100\n",
      "3/3 - 0s - loss: 0.0534 - mean_absolute_error: 0.1982 - val_loss: 0.0443 - val_mean_absolute_error: 0.1822 - 90ms/epoch - 30ms/step\n",
      "Epoch 9/100\n",
      "3/3 - 0s - loss: 0.0452 - mean_absolute_error: 0.1824 - val_loss: 0.0225 - val_mean_absolute_error: 0.1247 - 93ms/epoch - 31ms/step\n",
      "Epoch 10/100\n",
      "3/3 - 0s - loss: 0.0335 - mean_absolute_error: 0.1573 - val_loss: 0.0094 - val_mean_absolute_error: 0.0751 - 99ms/epoch - 33ms/step\n",
      "Epoch 11/100\n",
      "3/3 - 0s - loss: 0.0308 - mean_absolute_error: 0.1438 - val_loss: 0.0120 - val_mean_absolute_error: 0.0883 - 91ms/epoch - 30ms/step\n",
      "Epoch 12/100\n",
      "3/3 - 0s - loss: 0.0377 - mean_absolute_error: 0.1625 - val_loss: 0.0081 - val_mean_absolute_error: 0.0696 - 97ms/epoch - 32ms/step\n",
      "Epoch 13/100\n",
      "3/3 - 0s - loss: 0.0261 - mean_absolute_error: 0.1329 - val_loss: 0.0113 - val_mean_absolute_error: 0.0843 - 90ms/epoch - 30ms/step\n",
      "Epoch 14/100\n",
      "3/3 - 0s - loss: 0.0246 - mean_absolute_error: 0.1358 - val_loss: 0.0157 - val_mean_absolute_error: 0.1064 - 97ms/epoch - 32ms/step\n",
      "Epoch 15/100\n",
      "3/3 - 0s - loss: 0.0201 - mean_absolute_error: 0.1198 - val_loss: 0.0100 - val_mean_absolute_error: 0.0818 - 89ms/epoch - 30ms/step\n",
      "Epoch 16/100\n",
      "3/3 - 0s - loss: 0.0152 - mean_absolute_error: 0.1018 - val_loss: 0.0052 - val_mean_absolute_error: 0.0530 - 100ms/epoch - 33ms/step\n",
      "Epoch 17/100\n",
      "3/3 - 0s - loss: 0.0131 - mean_absolute_error: 0.0957 - val_loss: 0.0044 - val_mean_absolute_error: 0.0488 - 101ms/epoch - 34ms/step\n",
      "Epoch 18/100\n",
      "3/3 - 0s - loss: 0.0113 - mean_absolute_error: 0.0888 - val_loss: 0.0050 - val_mean_absolute_error: 0.0531 - 90ms/epoch - 30ms/step\n",
      "Epoch 19/100\n",
      "3/3 - 0s - loss: 0.0100 - mean_absolute_error: 0.0797 - val_loss: 0.0073 - val_mean_absolute_error: 0.0699 - 91ms/epoch - 30ms/step\n",
      "Epoch 20/100\n",
      "3/3 - 0s - loss: 0.0081 - mean_absolute_error: 0.0688 - val_loss: 0.0056 - val_mean_absolute_error: 0.0571 - 88ms/epoch - 29ms/step\n",
      "Epoch 21/100\n",
      "3/3 - 0s - loss: 0.0090 - mean_absolute_error: 0.0705 - val_loss: 0.0046 - val_mean_absolute_error: 0.0524 - 90ms/epoch - 30ms/step\n",
      "Epoch 22/100\n",
      "3/3 - 0s - loss: 0.0098 - mean_absolute_error: 0.0737 - val_loss: 0.0060 - val_mean_absolute_error: 0.0596 - 98ms/epoch - 33ms/step\n",
      "Epoch 23/100\n",
      "3/3 - 0s - loss: 0.0102 - mean_absolute_error: 0.0745 - val_loss: 0.0091 - val_mean_absolute_error: 0.0785 - 95ms/epoch - 32ms/step\n",
      "Epoch 24/100\n",
      "3/3 - 0s - loss: 0.0086 - mean_absolute_error: 0.0729 - val_loss: 0.0068 - val_mean_absolute_error: 0.0645 - 89ms/epoch - 30ms/step\n",
      "Epoch 25/100\n",
      "3/3 - 0s - loss: 0.0071 - mean_absolute_error: 0.0628 - val_loss: 0.0049 - val_mean_absolute_error: 0.0560 - 90ms/epoch - 30ms/step\n",
      "Epoch 26/100\n",
      "3/3 - 0s - loss: 0.0105 - mean_absolute_error: 0.0745 - val_loss: 0.0054 - val_mean_absolute_error: 0.0555 - 95ms/epoch - 32ms/step\n",
      "Epoch 27/100\n",
      "Restoring model weights from the end of the best epoch: 17.\n",
      "3/3 - 0s - loss: 0.0086 - mean_absolute_error: 0.0722 - val_loss: 0.0081 - val_mean_absolute_error: 0.0731 - 130ms/epoch - 43ms/step\n",
      "Epoch 27: early stopping\n"
     ]
    }
   ],
   "source": [
    "optimizer = Adam(learning_rate=0.005)\n",
    "early_stopping = EarlyStopping(monitor='val_loss', patience=10, verbose=1, restore_best_weights=True)\n",
    "model.compile(loss='mean_squared_error', optimizer=optimizer, metrics=['mean_absolute_error'])\n",
    "model_final = model.fit(X_train, y_train, epochs=100, batch_size=64, verbose=2, callbacks=[ early_stopping], validation_data=(X_test, y_test))"
   ]
  },
  {
   "cell_type": "markdown",
   "metadata": {},
   "source": [
    "# Evaluation"
   ]
  },
  {
   "cell_type": "code",
   "execution_count": 314,
   "metadata": {},
   "outputs": [
    {
     "name": "stdout",
     "output_type": "stream",
     "text": [
      "2/2 [==============================] - 0s 14ms/step - loss: 0.0044 - mean_absolute_error: 0.0488\n",
      "Loss : [0.00442, 0.04881]\n",
      "WARNING:tensorflow:5 out of the last 15 calls to <function Model.make_predict_function.<locals>.predict_function at 0x0000015D6A645160> triggered tf.function retracing. Tracing is expensive and the excessive number of tracings could be due to (1) creating @tf.function repeatedly in a loop, (2) passing tensors with different shapes, (3) passing Python objects instead of tensors. For (1), please define your @tf.function outside of the loop. For (2), @tf.function has reduce_retracing=True option that can avoid unnecessary retracing. For (3), please refer to https://www.tensorflow.org/guide/function#controlling_retracing and https://www.tensorflow.org/api_docs/python/tf/function for  more details.\n"
     ]
    },
    {
     "name": "stderr",
     "output_type": "stream",
     "text": [
      "WARNING:tensorflow:5 out of the last 15 calls to <function Model.make_predict_function.<locals>.predict_function at 0x0000015D6A645160> triggered tf.function retracing. Tracing is expensive and the excessive number of tracings could be due to (1) creating @tf.function repeatedly in a loop, (2) passing tensors with different shapes, (3) passing Python objects instead of tensors. For (1), please define your @tf.function outside of the loop. For (2), @tf.function has reduce_retracing=True option that can avoid unnecessary retracing. For (3), please refer to https://www.tensorflow.org/guide/function#controlling_retracing and https://www.tensorflow.org/api_docs/python/tf/function for  more details.\n"
     ]
    },
    {
     "name": "stdout",
     "output_type": "stream",
     "text": [
      "2/2 [==============================] - 1s 14ms/step\n"
     ]
    }
   ],
   "source": [
    "# Evaluasi model pada data uji\n",
    "loss = model.evaluate(X_test, y_test)\n",
    "round_loss = [round(num, 5) for num in loss]\n",
    "print(\"Loss :\", round_loss)\n",
    "\n",
    "predict = model.predict(X_test)"
   ]
  },
  {
   "cell_type": "code",
   "execution_count": 315,
   "metadata": {},
   "outputs": [
    {
     "name": "stdout",
     "output_type": "stream",
     "text": [
      "---------------  Metric  ---------------\n",
      "RMSE :  0.06646\n",
      "MSE  :  0.00442\n",
      "MAE  :  0.04881\n"
     ]
    }
   ],
   "source": [
    "print(\"-\"*15, \" Metric \",\"-\"*15)\n",
    "print('RMSE : ', round(sqrt(metrics.mean_squared_error(y_test, predict)), 5))\n",
    "print('MSE  : ', round(abs(metrics.mean_squared_error(y_test, predict)), 5))\n",
    "print('MAE  : ', round(metrics.mean_absolute_error(y_test, predict), 5))"
   ]
  },
  {
   "cell_type": "markdown",
   "metadata": {},
   "source": [
    "# Visualization"
   ]
  },
  {
   "cell_type": "code",
   "execution_count": 316,
   "metadata": {},
   "outputs": [
    {
     "data": {
      "image/png": "[encoded data removed]",
      "text/plain": [
       "<Figure size 640x480 with 1 Axes>"
      ]
     },
     "metadata": {},
     "output_type": "display_data"
    }
   ],
   "source": [
    "# Plot loss\n",
    "sns.set(style=\"whitegrid\")\n",
    "\n",
    "sns.lineplot(x=range(len(model_final.history['loss'])), y=model_final.history['loss'], label='Training Loss')\n",
    "sns.lineplot(x=range(len(model_final.history['val_loss'])), y=model_final.history['val_loss'], label='Validation Loss')\n",
    "plt.xlabel('Epoch')\n",
    "plt.ylabel('Loss')\n",
    "plt.title('Training and Validation Loss Over Epochs')\n",
    "plt.legend()\n",
    "plt.show()"
   ]
  },
  {
   "cell_type": "markdown",
   "metadata": {},
   "source": [
    "# Saving Model"
   ]
  },
  {
   "cell_type": "code",
   "execution_count": 317,
   "metadata": {},
   "outputs": [
    {
     "name": "stderr",
     "output_type": "stream",
     "text": [
      "WARNING:absl:Found untraced functions such as lstm_cell_62_layer_call_fn, lstm_cell_62_layer_call_and_return_conditional_losses, lstm_cell_63_layer_call_fn, lstm_cell_63_layer_call_and_return_conditional_losses, lstm_cell_64_layer_call_fn while saving (showing 5 of 6). These functions will not be directly callable after loading.\n"
     ]
    },
    {
     "name": "stdout",
     "output_type": "stream",
     "text": [
      "INFO:tensorflow:Assets written to: ../lstm_stock/1713727851/assets\n"
     ]
    },
    {
     "name": "stderr",
     "output_type": "stream",
     "text": [
      "INFO:tensorflow:Assets written to: ../lstm_stock/1713727851/assets\n"
     ]
    },
    {
     "name": "stdout",
     "output_type": "stream",
     "text": [
      "Success saving model!\n"
     ]
    }
   ],
   "source": [
    "import time\n",
    "\n",
    "ts = int(time.time())\n",
    "file_path = f\"../lstm_stock/{ts}/\"\n",
    "model.save(filepath=file_path, save_format='tf')\n",
    "print(\"Success saving model!\")"
   ]
  }
 ],
 "metadata": {
  "kernelspec": {
   "display_name": "ml",
   "language": "python",
   "name": "python3"
  },
  "language_info": {
   "codemirror_mode": {
    "name": "ipython",
    "version": 3
   },
   "file_extension": ".py",
   "mimetype": "text/x-python",
   "name": "python",
   "nbconvert_exporter": "python",
   "pygments_lexer": "ipython3",
   "version": "3.9.18"
  }
 },
 "nbformat": 4,
 "nbformat_minor": 2
}
